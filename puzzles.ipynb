{
 "cells": [
  {
   "cell_type": "code",
   "execution_count": null,
   "id": "82cf1fa6",
   "metadata": {},
   "outputs": [],
   "source": []
  },
  {
   "cell_type": "markdown",
   "id": "4fef76b0",
   "metadata": {},
   "source": [
    "## each occurrence frequency using "
   ]
  },
  {
   "cell_type": "code",
   "execution_count": 2,
   "id": "64712971",
   "metadata": {},
   "outputs": [
    {
     "name": "stdout",
     "output_type": "stream",
     "text": [
      "{'a': 2, 'h': 2, 's': 1, 'r': 1}\n"
     ]
    },
    {
     "data": {
      "text/plain": [
       "{'h': 2, 'a': 2, 'r': 1, 's': 1}"
      ]
     },
     "execution_count": 2,
     "metadata": {},
     "output_type": "execute_result"
    }
   ],
   "source": [
    "# set + count\n",
    "\n",
    "test_str = \"harsha\"\n",
    "\n",
    "res = { i : test_str.count(i) for i in set( test_str) }\n",
    "print( res )\n",
    "\n",
    "\n",
    "# \n",
    "\n",
    "all_freq = {}\n",
    "\n",
    "for i in test_str:\n",
    "    if i in all_freq:\n",
    "        all_freq[i] += 1\n",
    "    else:\n",
    "        all_freq[i] = 1\n",
    "        \n",
    "        \n",
    "all_freq"
   ]
  },
  {
   "cell_type": "code",
   "execution_count": 5,
   "id": "1510ed8f",
   "metadata": {},
   "outputs": [
    {
     "name": "stdout",
     "output_type": "stream",
     "text": [
      "['a', 'a']\n",
      "['a', 'a']\n"
     ]
    }
   ],
   "source": [
    "### Count vowels\n",
    "\n",
    "vowels = 'aeiou'\n",
    "name = \"harsha\"\n",
    "\n",
    "\n",
    "import re\n",
    "\n",
    "all_vowels = [ each for each in name if each in vowels]\n",
    "\n",
    "print( all_vowels )\n",
    "\n",
    "\n",
    "#2\n",
    "print(  re.findall(f'[{vowels}]', name, re.I)  )"
   ]
  },
  {
   "cell_type": "markdown",
   "id": "9118192c",
   "metadata": {},
   "source": [
    "### Reverse number<br>\n",
    "(1) Initialize rev_num = 0<br>\n",
    "(2) Loop while num > 0<br>\n",
    "     (a) Multiply rev_num by 10 and add remainder of num  <br>\n",
    "          divide by 10 to rev_num<br>\n",
    "               rev_num = rev_num*10 + num%10;<br>\n",
    "     (b) Divide num by 10<br>\n",
    "(3) Return rev_num<br>\n"
   ]
  },
  {
   "cell_type": "code",
   "execution_count": 11,
   "id": "e5c900dd",
   "metadata": {},
   "outputs": [
    {
     "name": "stdout",
     "output_type": "stream",
     "text": [
      "4321\n"
     ]
    }
   ],
   "source": [
    "n = 1234\n",
    "rev = 0\n",
    "\n",
    "while n > 0:\n",
    "    a = n % 10\n",
    "    rev = rev * 10 + a\n",
    "    n = n // 10\n",
    "    \n",
    "print( rev )"
   ]
  },
  {
   "cell_type": "code",
   "execution_count": 21,
   "id": "5fc7b5c6",
   "metadata": {},
   "outputs": [
    {
     "name": "stdout",
     "output_type": "stream",
     "text": [
      "Array after segregation\n",
      "[0, 0, 0, 1, 2, 1]\n"
     ]
    }
   ],
   "source": [
    "## Move all zeros to end\n",
    "\n",
    "\n",
    "# Function to put all 0s on left and all 1s on right\n",
    "def segregate0and1(arr, size):\n",
    "    # Initialize left and right indexes\n",
    "    left, right = 0, size-1\n",
    "     \n",
    "    while left < right:\n",
    "        # Increment left index while we see 0 at left\n",
    "        while arr[left] == 0 and left < right:\n",
    "            left += 1\n",
    " \n",
    "        # Decrement right index while we see 1 at right\n",
    "        while arr[right] != 1 and left < right:\n",
    "            right -= 1\n",
    " \n",
    "        # If left is smaller than right then there is a 1 at left\n",
    "        # and a 0 at right. Exchange arr[left] and arr[right]\n",
    "        if left < right:\n",
    "            arr[left] = 0\n",
    "            arr[right] = 1\n",
    "            left += 1\n",
    "            right -= 1\n",
    " \n",
    "    return arr\n",
    " \n",
    "# driver program to test\n",
    "arr = [0, 1, 0, 1, 2, 1]\n",
    "arr_size = len(arr)\n",
    "print(\"Array after segregation\")\n",
    "print(segregate0and1(arr, arr_size))\n",
    "        "
   ]
  },
  {
   "cell_type": "code",
   "execution_count": 34,
   "id": "ee1f9d13",
   "metadata": {},
   "outputs": [
    {
     "name": "stdout",
     "output_type": "stream",
     "text": [
      "[2, 0, 0, 4, 1, 1, 3]\n",
      "total count--> 4\n"
     ]
    }
   ],
   "source": [
    "\n",
    "# max consecutive 1s in a strings\n",
    "\n",
    "str_name = '11000111101010111'\n",
    "\n",
    "\n",
    "str_name.split('0')\n",
    "\n",
    "print( [ len(i) for i in str_name.split('0') ] )\n",
    "\n",
    "# final\n",
    "\n",
    "print( \"total count-->\", max( [ len(i) for i in str_name.split('0') ] ) )\n"
   ]
  },
  {
   "cell_type": "code",
   "execution_count": 35,
   "id": "32c7b31d",
   "metadata": {},
   "outputs": [
    {
     "name": "stdout",
     "output_type": "stream",
     "text": [
      "3\n"
     ]
    }
   ],
   "source": [
    "# maximum consecutive 1s in a list\n",
    "\n",
    "arr = [ 1,0,1,1,1,0 ]\n",
    "\n",
    "count = 0\n",
    "result = 0\n",
    "\n",
    "for i in range(len(arr) ):\n",
    "    # reset count when o is found\n",
    "    if arr[i] == 0:\n",
    "        count = 0\n",
    "        \n",
    "    else:\n",
    "        count = count + 1\n",
    "        result = max( result, count )\n",
    "        \n",
    "        \n",
    "print( result )\n",
    "\n"
   ]
  },
  {
   "cell_type": "code",
   "execution_count": null,
   "id": "d3f95fc0",
   "metadata": {},
   "outputs": [],
   "source": []
  }
 ],
 "metadata": {
  "kernelspec": {
   "display_name": "Python 3 (ipykernel)",
   "language": "python",
   "name": "python3"
  },
  "language_info": {
   "codemirror_mode": {
    "name": "ipython",
    "version": 3
   },
   "file_extension": ".py",
   "mimetype": "text/x-python",
   "name": "python",
   "nbconvert_exporter": "python",
   "pygments_lexer": "ipython3",
   "version": "3.9.12"
  }
 },
 "nbformat": 4,
 "nbformat_minor": 5
}
