{
 "cells": [
  {
   "cell_type": "code",
   "execution_count": null,
   "metadata": {},
   "outputs": [],
   "source": []
  },
  {
   "cell_type": "markdown",
   "metadata": {},
   "source": [
    "## How does iteration compare to recursion ?<br>\n",
    "\n",
    "\n",
    "Iteration: for example for loop moves to next result automatically using dunder function '__init__' and raises the StopIteration  exception at the end of the series of result.<br>\n",
    "\n",
    "Recursion: Programmer to make the function work and there are no built-in recursive operation like in iteration. recursion continues until a base case is completed. If the operation is never able to reach that base case, then infinite recursion occurs.; It uses a Stack Space;<br>\n",
    "Recursive function are similar to forking processes; each recursive call creates a new function with associated overhead.\n",
    "We can limit the over use of stack space using sys.setrecursionlimit()."
   ]
  },
  {
   "cell_type": "markdown",
   "metadata": {},
   "source": [
    "## What is the largest sum in a subarray?<br>\n",
    "\n",
    "Assuming you have a one-dimensional list that has both positive and negative\n",
    "numbers, what is the largest sum available using a contiguous subarray of num\u0002bers?\n"
   ]
  },
  {
   "cell_type": "code",
   "execution_count": null,
   "metadata": {},
   "outputs": [],
   "source": []
  },
  {
   "cell_type": "markdown",
   "metadata": {},
   "source": [
    "Using divide-and-conquer, the complexity becomes O(n log n). The process is\n",
    "described in the following steps:<br>\n",
    "1. Divide the list into two halves<br>\n",
    "2. Calculate and return the maximum of the following:<br>\n",
    "    a) Left half sum via recursion<br>\n",
    "    b) Right half sum via recursion<br>\n",
    "    c) Sum across the midpoint. This is found by calculating the sum from midpoint to a point on the left half, then and the sum from midpoint + 1 to a point on the right half, then add those two sums together.\n"
   ]
  },
  {
   "cell_type": "code",
   "execution_count": 2,
   "metadata": {},
   "outputs": [
    {
     "name": "stdout",
     "output_type": "stream",
     "text": [
      "[3, 4, 5]\n",
      "Maximum contiguous sum is  15\n"
     ]
    }
   ],
   "source": [
    "def sum_across_midpoint(input_array, first_value, midpoint, last_value):\n",
    "    # Calculate left side sum\n",
    "    current_sum = left_sum = 0\n",
    "    for i in range(midpoint, first_value - 1, -1):\n",
    "        current_sum = current_sum + input_array[i]\n",
    "        if current_sum > left_sum:\n",
    "            left_sum = current_sum\n",
    "\n",
    "    # Calculate right side sum\n",
    "    current_sum = right_sum = 0\n",
    "    for i in range(midpoint + 1, last_value + 1):\n",
    "        current_sum = current_sum + input_array[i]\n",
    "        if current_sum > right_sum:\n",
    "            right_sum = current_sum\n",
    "\n",
    "    return left_sum + right_sum\n",
    "\n",
    "\n",
    "def subarray_sum(input_array, first_value, last_value):\n",
    "    # Only one element\n",
    "    if first_value == last_value:\n",
    "        return input_array[first_value]\n",
    "\n",
    "    # Find middle point\n",
    "    midpoint = (first_value + last_value) // 2  # Truncate division\n",
    "\n",
    "    # Return maximum of: left side, right side, or across midpoint\n",
    "    return max(subarray_sum(input_array, first_value, midpoint),\n",
    "               subarray_sum(input_array, midpoint + 1, last_value),\n",
    "               sum_across_midpoint(input_array, first_value, midpoint, last_value))\n",
    "\n",
    "\n",
    "if __name__ == '__main__':\n",
    "    #arr = [-2, -5, 6, -2, -3, 1, 5, -6]\n",
    "    arr = [ 1,2,3,4,5]\n",
    "    print(arr[2:7])\n",
    "    max_sum = subarray_sum(arr, 0, len(arr) - 1)\n",
    "    print(\"Maximum contiguous sum is \", max_sum)\n",
    "        \n"
   ]
  },
  {
   "cell_type": "markdown",
   "metadata": {},
   "source": [
    "## Heap and Priority Queue<br>\n",
    "\n",
    "Priority queues are abstract data types that operate like a regular queue or stack,\n",
    "but there is a certain priority associated with them.Heaps are data structures\n",
    "used to implement priority queues."
   ]
  },
  {
   "cell_type": "code",
   "execution_count": 3,
   "metadata": {},
   "outputs": [
    {
     "name": "stdout",
     "output_type": "stream",
     "text": [
      "12 1 14 7\n",
      "14\n",
      "12\n",
      "7\n",
      "1\n"
     ]
    }
   ],
   "source": [
    "class PriorityQueue:\n",
    "    \"\"\"Manual implementation of a priority queue. Better to use built-in heapq data structure.\"\"\"\n",
    "    def __init__(self):\n",
    "        self.queue = []\n",
    "\n",
    "    def __repr__(self):\n",
    "        return \" \".join([str(i) for i in self.queue])  # Iterate through queue list\n",
    "\n",
    "    def check_empty(self):\n",
    "        \"\"\"Checks if queue is empty\"\"\"\n",
    "        if len(self.queue) == 0:\n",
    "            return True\n",
    "\n",
    "    def insert(self, element):\n",
    "        \"\"\"Add element to queue\"\"\"\n",
    "        self.queue.append(element)\n",
    "\n",
    "    # for popping an element based on Priority\n",
    "    def pop(self):\n",
    "        max_value = 0\n",
    "        for i in range(len(self.queue)):  # Iterate over the length of the queue\n",
    "            if self.queue[i] > self.queue[max_value]:  # If element > max_value, change max_value to element\n",
    "                max_value = i\n",
    "        item = self.queue[max_value]  # Set item to max_value\n",
    "        del self.queue[max_value]  # Delete max_value\n",
    "        return item  # Return max_value item\n",
    "\n",
    "\n",
    "if __name__ == '__main__':\n",
    "    myQueue = PriorityQueue()\n",
    "    myQueue.insert(12)\n",
    "    myQueue.insert(1)\n",
    "    myQueue.insert(14)\n",
    "    myQueue.insert(7)\n",
    "    print(myQueue)  # Show all values in queue\n",
    "    while not myQueue.check_empty():  # Continue while queue has values\n",
    "        print(myQueue.pop())  # Pop out the highest value\n",
    "        "
   ]
  },
  {
   "cell_type": "code",
   "execution_count": 4,
   "metadata": {},
   "outputs": [
    {
     "name": "stdout",
     "output_type": "stream",
     "text": [
      "The created heap is: [1, 3, 9, 7, 5]\n",
      "The modified heap after push is: [1, 3, 4, 7, 5, 9]\n",
      "The popped and smallest element is 1\n"
     ]
    }
   ],
   "source": [
    "import heapq\n",
    "\n",
    "li = [5, 7, 9, 1, 3]\n",
    "\n",
    "heapq.heapify(li)  # Convert list to heap\n",
    "\n",
    "print(f\"The created heap is: {li}\")\n",
    "\n",
    "heapq.heappush(li, 4)  # Push value 4 into heap\n",
    "print(f\"The modified heap after push is: {li}\")\n",
    "\n",
    "print(f\"The popped and smallest element is {heapq.heappop(li)}\")  # Pop smallest element"
   ]
  },
  {
   "cell_type": "code",
   "execution_count": 5,
   "metadata": {},
   "outputs": [
    {
     "name": "stdout",
     "output_type": "stream",
     "text": [
      "The popped item using heappushpop() is: 2\n",
      "The popped item using heapreplace() is: 3\n"
     ]
    }
   ],
   "source": [
    "import heapq\n",
    "\n",
    "li1 = [5, 7, 9, 4, 3]\n",
    "li2 = [5, 7, 9, 4, 3]\n",
    "\n",
    "heapq.heapify(li1)\n",
    "heapq.heapify(li2)\n",
    "\n",
    "print(f\"The popped item using heappushpop() is: {heapq.heappushpop(li1, 2)}\")\n",
    "\n",
    "print(f\"The popped item using heapreplace() is: {heapq.heapreplace(li2, 2)}\")"
   ]
  },
  {
   "cell_type": "code",
   "execution_count": 6,
   "metadata": {},
   "outputs": [
    {
     "name": "stdout",
     "output_type": "stream",
     "text": [
      "The 3 largest numbers in list are: [10, 9, 8]\n",
      "The 3 smallest numbers in list are: [1, 3, 4]\n"
     ]
    }
   ],
   "source": [
    "import heapq\n",
    "\n",
    "li = [6, 7, 9, 4, 3, 5, 8, 10, 1]\n",
    "\n",
    "heapq.heapify(li)\n",
    "\n",
    "print(f\"The 3 largest numbers in list are: {heapq.nlargest(3, li)}\")\n",
    "print(f\"The 3 smallest numbers in list are: {heapq.nsmallest(3, li)}\")"
   ]
  },
  {
   "cell_type": "markdown",
   "metadata": {},
   "source": [
    "## What is the sliding window algorithm?<br>\n",
    "A variation of 2PS is the sliding window. The idea is to think of an array as a\n",
    "window of length n, with a pane of glass that covers only a portion of the array,\n",
    "k. For example, if n = 5 and k = 3, at any time we can only work with three\n",
    "elements of the array. This concept is actually applied in the sliding window\n",
    "protocol utilized in network transmission via TCP and layer 2 transfers."
   ]
  },
  {
   "cell_type": "markdown",
   "metadata": {},
   "source": [
    "The main reason to use a sliding window is to convert a nested for loop to a\n",
    "single for loop, changing the time from O(k ×n) to O(n). We show a brute-force\n",
    "example of getting the maximum sum of k consecutive elements from array n."
   ]
  },
  {
   "cell_type": "markdown",
   "metadata": {},
   "source": [
    "Reference:\n",
    "    https://www.techiedelight.com/sliding-window-problems/ <br>\n",
    "        https://www.pluralsight.com/guides/algorithm-templates:-two-pointers-part-3"
   ]
  },
  {
   "cell_type": "markdown",
   "metadata": {},
   "source": [
    "## Sort an array of 0’s, 1’s, and 2’s (Dutch National Flag Problem)<br>\n",
    "\n",
    "Input: { 0, 1, 2, 2, 1, 0, 0, 2, 0, 1, 1, 0 }<br>\n",
    " \n",
    "Output:{ 0, 0, 0, 0, 0, 1, 1, 1, 1, 2, 2, 2 }<br>\n",
    "\n",
    "Solutions: <br>\n",
    "\n",
    "Counting Sort<br>\n",
    "- The values less than the pivot.<br>\n",
    "- the values equal to the pivot. <br>\n",
    "- The values greater than the Pivot.\n",
    "\n",
    "\n",
    "\n"
   ]
  },
  {
   "cell_type": "code",
   "execution_count": 8,
   "metadata": {},
   "outputs": [],
   "source": [
    "def swap(A, i, j):\n",
    " \n",
    "    temp = A[i]\n",
    "    A[i] = A[j]\n",
    "    A[j] = temp\n",
    " \n",
    " \n",
    "# Linear time partition routine to sort a list containing 0, 1, and 2.\n",
    "# It is similar to 3–way partitioning for the Dutch national flag problem.\n",
    "def threeWayPartition(A, end):\n",
    " \n",
    "    start = mid = 0\n",
    "    pivot = 1\n",
    " \n",
    "    while mid <= end:\n",
    "        if A[mid] < pivot:      # current element is 0\n",
    "            swap(A, start, mid)\n",
    "            start = start + 1\n",
    "            mid = mid + 1\n",
    "        elif A[mid] > pivot:    # current element is 2\n",
    "            swap(A, mid, end)\n",
    "            end = end - 1\n",
    "        else:                   # current element is 1\n",
    "            mid = mid + 1\n",
    "\n",
    "    "
   ]
  },
  {
   "cell_type": "code",
   "execution_count": 9,
   "metadata": {},
   "outputs": [
    {
     "name": "stdout",
     "output_type": "stream",
     "text": [
      "[0, 0, 0, 0, 0, 1, 1, 1, 1, 2, 2, 2]\n"
     ]
    }
   ],
   "source": [
    "A = [0, 1, 2, 2, 1, 0, 0, 2, 0, 1, 1, 0]\n",
    "threeWayPartition(A, len(A) - 1)\n",
    "\n",
    "print(A)"
   ]
  },
  {
   "cell_type": "markdown",
   "metadata": {},
   "source": [
    "## QuickSort<br>\n",
    "Pivot Selection: Leftmost or rightmost element of the partition.<br>\n",
    "Partitioning: Reorder the array such that all elements with values less than the pivot and right side all elements are greater than the pivot values.<br>\n",
    "Recur: Apply for subarray of elements"
   ]
  },
  {
   "cell_type": "code",
   "execution_count": 1,
   "metadata": {},
   "outputs": [],
   "source": [
    "\n",
    "def swap( A, i, j ):\n",
    "    temp = A[i]\n",
    "    A[i] = A[j]\n",
    "    A[j] = temp\n",
    "    "
   ]
  },
  {
   "cell_type": "code",
   "execution_count": 2,
   "metadata": {},
   "outputs": [],
   "source": [
    "# Partition using the Lomuto partition scheme\n",
    "def partition(a, start, end):\n",
    " \n",
    "    # Pick the rightmost element as a pivot from the list\n",
    "    pivot = a[end]\n",
    " \n",
    "    # elements less than the pivot will be pushed to the left of `pIndex`\n",
    "    # elements more than the pivot will be pushed to the right of `pIndex`\n",
    "    # equal elements can go either way\n",
    "    pIndex = start\n",
    " \n",
    "    # each time we find an element less than or equal to the pivot,\n",
    "    # `pIndex` is incremented, and that element would be placed\n",
    "    # before the pivot.\n",
    "    for i in range(start, end):\n",
    "        if a[i] <= pivot:\n",
    "            swap(a, i, pIndex)\n",
    "            pIndex = pIndex + 1\n",
    " \n",
    "    # swap `pIndex` with pivot\n",
    "    swap(a, end, pIndex)\n",
    " \n",
    "    # return `pIndex` (index of the pivot element)\n",
    "    return pIndex\n",
    "    "
   ]
  },
  {
   "cell_type": "code",
   "execution_count": 3,
   "metadata": {},
   "outputs": [],
   "source": [
    "# Quicksort routine\n",
    "def quicksort(a, start, end):\n",
    " \n",
    "    # base condition\n",
    "    if start >= end:\n",
    "        return\n",
    " \n",
    "    # rearrange elements across pivot\n",
    "    pivot = partition(a, start, end)\n",
    " \n",
    "    # recur on sublist containing elements less than the pivot\n",
    "    quicksort(a, start, pivot - 1)\n",
    " \n",
    "    # recur on sublist containing elements more than the pivot\n",
    "    quicksort(a, pivot + 1, end)"
   ]
  },
  {
   "cell_type": "code",
   "execution_count": 4,
   "metadata": {},
   "outputs": [
    {
     "name": "stdout",
     "output_type": "stream",
     "text": [
      "[0, 0, 0, 0, 0, 1, 1, 1, 1, 2, 2, 2]\n"
     ]
    }
   ],
   "source": [
    "a = [0, 1, 2, 2, 1, 0, 0, 2, 0, 1, 1, 0]\n",
    "\n",
    "quicksort(a, 0, len(a) - 1)\n",
    "\n",
    "print(a)"
   ]
  },
  {
   "cell_type": "markdown",
   "metadata": {},
   "source": [
    "## Find the maximum product of two integer in an array<br>\n",
    "{-10, -3, 5, 6, -2}<br>\n",
    "(-10, -3)(5, 6) <br>"
   ]
  },
  {
   "cell_type": "code",
   "execution_count": 8,
   "metadata": {},
   "outputs": [
    {
     "data": {
      "text/plain": [
       "-9223372036854775807"
      ]
     },
     "execution_count": 8,
     "metadata": {},
     "output_type": "execute_result"
    }
   ],
   "source": [
    "import sys\n",
    "-sys.maxsize"
   ]
  },
  {
   "cell_type": "code",
   "execution_count": 10,
   "metadata": {},
   "outputs": [],
   "source": [
    "\n",
    "def find_max_product(A):\n",
    "    \n",
    "    max_product = -sys.maxsize\n",
    "    max_i = max_j = -1\n",
    "    \n",
    "    # consider every pair of elements\n",
    "    for i in range( len(A) - 1 ):\n",
    "        for j in range( i + 1, len(A) ):\n",
    "            # Update the maximum product if required\n",
    "            if max_product < A[i] * A[j]:\n",
    "                max_product = A[i] * A[j]\n",
    "                ( max_i, max_j ) = (i,j)\n",
    "                \n",
    "    print( ( A[max_i], A[max_j] ) )\n",
    "    "
   ]
  },
  {
   "cell_type": "code",
   "execution_count": 11,
   "metadata": {},
   "outputs": [
    {
     "name": "stdout",
     "output_type": "stream",
     "text": [
      "(-10, -3)\n"
     ]
    }
   ],
   "source": [
    "A = [-10, -3, 5, 6, -2]\n",
    "find_max_product(A)"
   ]
  },
  {
   "cell_type": "markdown",
   "metadata": {},
   "source": [
    "## reverser"
   ]
  },
  {
   "cell_type": "code",
   "execution_count": 13,
   "metadata": {},
   "outputs": [],
   "source": [
    "def reverseList( array ):\n",
    "    start, end = 0, len(array) - 1\n",
    "    while start < end:\n",
    "        array[start], array[end] = array[end], array[start]\n",
    "        start = start + 1\n",
    "        end = end - 1"
   ]
  },
  {
   "cell_type": "code",
   "execution_count": 14,
   "metadata": {},
   "outputs": [],
   "source": [
    "\n",
    "def reverseWordsInString( string ):\n",
    "    words = []\n",
    "    startOfWord = 0\n",
    "    for idx in range( len(string)):\n",
    "        character = string[idx]\n",
    "        \n",
    "        if character == \" \":\n",
    "            words.append( string[startOfWord: idx ] )\n",
    "            startOfWord = idx\n",
    "        elif string[startOfWord] == \" \":\n",
    "            words.append(\" \")\n",
    "            startOfWord = idx\n",
    "            \n",
    "    words.append( string[startOfWord: ] )\n",
    "    \n",
    "    reverseList(words)\n",
    "    \n",
    "    return \"\".join(words)\n"
   ]
  },
  {
   "cell_type": "code",
   "execution_count": null,
   "metadata": {},
   "outputs": [],
   "source": [
    "\n",
    "        "
   ]
  },
  {
   "cell_type": "code",
   "execution_count": 15,
   "metadata": {},
   "outputs": [
    {
     "data": {
      "text/plain": [
       "'harsha hi'"
      ]
     },
     "execution_count": 15,
     "metadata": {},
     "output_type": "execute_result"
    }
   ],
   "source": [
    "reverseWordsInString(\"hi harsha\")"
   ]
  },
  {
   "cell_type": "code",
   "execution_count": 35,
   "metadata": {},
   "outputs": [],
   "source": [
    "\n",
    "def powerset( array ):\n",
    "    \n",
    "    subsets = [ [] ]\n",
    "    print( len(subsets) )\n",
    "    print(\"--------\")\n",
    "    \n",
    "    for ele in array:\n",
    "        print(\"=======\")\n",
    "        print( ele )\n",
    "        print(\"==============\")\n",
    "        for i in range(len(subsets)):\n",
    "            print('++++++')\n",
    "            print(i)\n",
    "            print('++++')\n",
    "            currentSubset = subsets[i]\n",
    "            subsets.append( currentSubset + [ele] )\n",
    "            \n",
    "    print( subsets)      \n",
    "    return subsets\n",
    "        "
   ]
  },
  {
   "cell_type": "code",
   "execution_count": 36,
   "metadata": {},
   "outputs": [
    {
     "name": "stdout",
     "output_type": "stream",
     "text": [
      "1\n",
      "--------\n",
      "=======\n",
      "1\n",
      "==============\n",
      "++++++\n",
      "0\n",
      "++++\n",
      "=======\n",
      "2\n",
      "==============\n",
      "++++++\n",
      "0\n",
      "++++\n",
      "++++++\n",
      "1\n",
      "++++\n",
      "=======\n",
      "3\n",
      "==============\n",
      "++++++\n",
      "0\n",
      "++++\n",
      "++++++\n",
      "1\n",
      "++++\n",
      "++++++\n",
      "2\n",
      "++++\n",
      "++++++\n",
      "3\n",
      "++++\n",
      "[[], [1], [2], [1, 2], [3], [1, 3], [2, 3], [1, 2, 3]]\n"
     ]
    },
    {
     "data": {
      "text/plain": [
       "[[], [1], [2], [1, 2], [3], [1, 3], [2, 3], [1, 2, 3]]"
      ]
     },
     "execution_count": 36,
     "metadata": {},
     "output_type": "execute_result"
    }
   ],
   "source": [
    "powerset([1,2,3])"
   ]
  },
  {
   "cell_type": "code",
   "execution_count": null,
   "metadata": {},
   "outputs": [],
   "source": []
  }
 ],
 "metadata": {
  "kernelspec": {
   "display_name": "Python 3",
   "language": "python",
   "name": "python3"
  },
  "language_info": {
   "codemirror_mode": {
    "name": "ipython",
    "version": 3
   },
   "file_extension": ".py",
   "mimetype": "text/x-python",
   "name": "python",
   "nbconvert_exporter": "python",
   "pygments_lexer": "ipython3",
   "version": "3.8.5"
  }
 },
 "nbformat": 4,
 "nbformat_minor": 4
}
