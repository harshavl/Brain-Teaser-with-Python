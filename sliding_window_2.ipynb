{
 "cells": [
  {
   "cell_type": "markdown",
   "id": "5a2a5e84",
   "metadata": {},
   "source": [
    "### Longest Substring with Same Letters after Replacement <br>\n",
    "Given a string with lowercase letters only, if you are allowed to replace no more than ‘k’ letters with any letter, find the length of the longest substring having the same letters after replacement.<br>\n",
    "\n"
   ]
  },
  {
   "cell_type": "markdown",
   "id": "f1e6b971",
   "metadata": {},
   "source": [
    "Example 1:\n",
    "\n",
    "Input: String=\"aabccbb\", k=2\n",
    "Output: 5\n",
    "Explanation: Replace the two 'c' with 'b' to have a longest repeating substring \"bbbbb\".\n",
    "\n",
    "<br>\n",
    "Example 2:\n",
    "\n",
    "Input: String=\"abbcb\", k=1\n",
    "Output: 4\n",
    "Explanation: Replace the 'c' with 'b' to have a longest repeating substring \"bbbb\".\n",
    "\n",
    "<br>\n",
    "Example 3:\n",
    "\n",
    "Input: String=\"abccde\", k=1\n",
    "Output: 3\n",
    "Explanation: Replace the 'b' or 'd' with 'c' to have the longest repeating substring \"ccc\"."
   ]
  },
  {
   "cell_type": "markdown",
   "id": "fc676b74",
   "metadata": {},
   "source": [
    "### Solution<br>\n",
    "\n",
    "This problem follows the Sliding Window pattern and we can use a similar **dynamic sliding window** strategy as discussed in `No-repeat Substring`. We can use a HashMap to count the frequency of each letter.\n",
    "\n",
    "- We’ll iterate through the string to add one letter at a time in the window.<br>\n",
    "- We’ll also keep track of the count of the maximum repeating letter in any window (let’s call it `maxRepeatLetterCount`). So at any time, we know that we can have a window which has one letter repeating maxRepeatLetterCount times, this means we should try to replace the remaining letters. <br>\n",
    "- If we have more than `‘k’` remaining letters, we should shrink the window as we are not allowed to replace more than ‘k’ letters."
   ]
  },
  {
   "cell_type": "code",
   "execution_count": 12,
   "id": "4057d885",
   "metadata": {},
   "outputs": [],
   "source": [
    "\n",
    "\n",
    "def length_of_longest_substring( A, K ):\n",
    "    winStart, maxLen, maxRepeatLetterCount = 0,0,0\n",
    "    freqMap = {}\n",
    "    \n",
    "    for winEnd in range( len( A ) ):\n",
    "        rightChar = A[winEnd]\n",
    "        if rightChar not in freqMap:\n",
    "            freqMap[rightChar] = 0\n",
    "        freqMap[rightChar] = freqMap[rightChar] + 1\n",
    "        \n",
    "        maxRepeatLetterCount = max ( maxRepeatLetterCount, freqMap[rightChar] )\n",
    "        \n",
    "        # current window size is from window_start to window_end, overall we have a letter which is \n",
    "        # repeating 'maxRepeatLetterCount' times. this means we can have a window which has one letter repeating\n",
    "        # 'maxRepeatLetterCount' times and the remaining letters we should replace.\n",
    "        # if the remaning letters are more than 'K', it is the time to shrink the window as we are not allowed \n",
    "        # replace to replace more than 'K' letters.\n",
    "        \n",
    "        \n",
    "        if  ( winEnd - winStart + 1  - maxRepeatLetterCount ) > K:\n",
    "            print(\"------\")\n",
    "            print( freqMap )\n",
    "            print(\"----------\")\n",
    "            leftChar = A[winStart]\n",
    "            freqMap[leftChar] = freqMap[leftChar] - 1\n",
    "            winStart = winStart + 1\n",
    "            \n",
    "        print( \"winEnd:\", winEnd , \"winStart\", winStart )\n",
    "        \n",
    "        maxLen = max( maxLen, winEnd - winStart + 1 )\n",
    "        \n",
    "    return maxLen\n"
   ]
  },
  {
   "cell_type": "code",
   "execution_count": 15,
   "id": "590723ef",
   "metadata": {},
   "outputs": [
    {
     "name": "stdout",
     "output_type": "stream",
     "text": [
      "winEnd: 0 winStart 0\n",
      "winEnd: 1 winStart 0\n",
      "winEnd: 2 winStart 0\n",
      "winEnd: 3 winStart 0\n",
      "------\n",
      "{'a': 2, 'b': 1, 'c': 2}\n",
      "----------\n",
      "winEnd: 4 winStart 1\n",
      "------\n",
      "{'a': 1, 'b': 2, 'c': 2}\n",
      "----------\n",
      "winEnd: 5 winStart 2\n",
      "winEnd: 6 winStart 2\n",
      "5\n",
      "*******\n",
      "winEnd: 0 winStart 0\n",
      "winEnd: 1 winStart 0\n",
      "winEnd: 2 winStart 0\n",
      "------\n",
      "{'a': 1, 'b': 2, 'c': 1}\n",
      "----------\n",
      "winEnd: 3 winStart 1\n",
      "winEnd: 4 winStart 1\n",
      "4\n",
      "winEnd: 0 winStart 0\n",
      "winEnd: 1 winStart 0\n",
      "------\n",
      "{'a': 1, 'b': 1, 'c': 1}\n",
      "----------\n",
      "winEnd: 2 winStart 1\n",
      "winEnd: 3 winStart 1\n",
      "------\n",
      "{'a': 0, 'b': 1, 'c': 2, 'd': 1}\n",
      "----------\n",
      "winEnd: 4 winStart 2\n",
      "------\n",
      "{'a': 0, 'b': 0, 'c': 2, 'd': 1, 'e': 1}\n",
      "----------\n",
      "winEnd: 5 winStart 3\n",
      "3\n"
     ]
    }
   ],
   "source": [
    "print( length_of_longest_substring( 'aabccbb', 2 ) )\n",
    "\n",
    "print('*******')\n",
    "print( length_of_longest_substring( 'abbcb', 1 ) )\n",
    "print( length_of_longest_substring( 'abccde', 1 ))"
   ]
  },
  {
   "cell_type": "markdown",
   "id": "7d65a959",
   "metadata": {},
   "source": [
    "Time Complexity #\n",
    "The time complexity of the above algorithm will be O(N)O(N) where ‘N’ is the number of letters in the input string.\n",
    "\n",
    "Space Complexity #\n",
    "As we are expecting only the lower case letters in the input string, we can conclude that the space complexity will be O(26)O(26), to store each letter’s frequency in the HashMap, which is asymptotically equal to O(1)O(1)."
   ]
  },
  {
   "cell_type": "markdown",
   "id": "ae0f6cac",
   "metadata": {},
   "source": [
    "## Longest Subarray with Ones after Replacement (hard)"
   ]
  },
  {
   "cell_type": "markdown",
   "id": "139d209e",
   "metadata": {},
   "source": [
    "Problem Statement #\n",
    "Given an array containing 0s and 1s, if you are allowed to replace no more than ‘k’ 0s with 1s, find the length of the longest contiguous subarray having all 1s.\n",
    "<br>\n",
    "Example 1:\n",
    "\n",
    "Input: Array=[0, 1, 1, 0, 0, 0, 1, 1, 0, 1, 1], k=2\n",
    "Output: 6\n",
    "Explanation: Replace the '0' at index 5 and 8 to have the longest contiguous subarray of 1s having length 6.\n",
    "\n",
    "<br>\n",
    "Example 2:\n",
    "\n",
    "Input: Array=[0, 1, 0, 0, 1, 1, 0, 1, 1, 0, 0, 1, 1], k=3\n",
    "Output: 9\n",
    "Explanation: Replace the '0' at index 6, 9, and 10 to have the longest contiguous subarray of 1s having length 9."
   ]
  },
  {
   "cell_type": "markdown",
   "id": "183fc559",
   "metadata": {},
   "source": [
    "## Solution #<br>\n",
    "This problem follows the Sliding Window pattern and is quite similar to Longest Substring with same Letters after Replacement. The only difference is that, in the problem, we only have two characters (1s and 0s) in the input arrays.\n",
    "\n",
    "Following a similar approach, we’ll iterate through the array to add one number at a time in the window. We’ll also keep track of the maximum number of repeating 1s in the current window (let’s call it maxOnesCount). So at any time, we know that we can have a window which has 1s repeating maxOnesCount time, so we should try to replace the remaining 0s. If we have more than ‘k’ remaining 0s, we should shrink the window as we are not allowed to replace more than ‘k’ 0s."
   ]
  },
  {
   "cell_type": "code",
   "execution_count": 4,
   "id": "cae3c3b8",
   "metadata": {},
   "outputs": [],
   "source": [
    "\n",
    "def length_of_longest_substring( A, K ):\n",
    "    winStart, maxLen, maxOnesCount = 0, 0 ,0\n",
    "    \n",
    "    for winEnd in range( len( A )):\n",
    "        if A[winEnd] == 1:\n",
    "            maxOnesCount = maxOnesCount + 1\n",
    "            \n",
    "        # if the remaining 1s more than 'K', it is the time to shrink the window as we are not allowed to\n",
    "        # replace more than 'K' 0s.\n",
    "        if ( winEnd - winStart + 1 - maxOnesCount ) > K:\n",
    "            if A[winStart] == 1:\n",
    "                maxOnesCount = maxOnesCount - 1\n",
    "                \n",
    "            print('max Ones Count', maxOnesCount )\n",
    "                \n",
    "            winStart = winStart + 1\n",
    "            \n",
    "        maxLen = max( maxLen, winEnd - winStart + 1 )\n",
    "        \n",
    "    return maxLen\n",
    "\n"
   ]
  },
  {
   "cell_type": "code",
   "execution_count": 5,
   "id": "647da097",
   "metadata": {},
   "outputs": [
    {
     "name": "stdout",
     "output_type": "stream",
     "text": [
      "max Ones Count 2\n",
      "max Ones Count 1\n",
      "max Ones Count 1\n",
      "max Ones Count 2\n",
      "max Ones Count 2\n",
      "6\n"
     ]
    }
   ],
   "source": [
    "print( length_of_longest_substring( [ 0, 1, 1, 0, 0, 0, 1, 1, 0, 1, 1] , 2))"
   ]
  },
  {
   "cell_type": "markdown",
   "id": "30a73462",
   "metadata": {},
   "source": [
    "Explanation: Replace the '0' at index 5 and 8 to have the longest contiguous subarray of 1s having length 6."
   ]
  },
  {
   "cell_type": "markdown",
   "id": "456217cd",
   "metadata": {},
   "source": [
    "## Permutation in a String (hard) #<br>\n",
    "\n",
    "Given a string and a pattern, find out if the string contains any permutation of the pattern.<br>\n",
    "\n",
    "Permutation is defined as the re-arranging of the characters of the string. For example, “abc” has the following six permutations:<br>\n",
    "\n",
    "abc<br>\n",
    "acb<br>\n",
    "bac<br>\n",
    "bca<br>\n",
    "cab<br>\n",
    "cba<br>\n",
    "If a string has ‘n’ distinct characters it will have `n!` permutations."
   ]
  },
  {
   "cell_type": "markdown",
   "id": "636bb0a9",
   "metadata": {},
   "source": [
    "Example 1: <br>\n",
    "\n",
    "Input: String=\"oidbcaf\", Pattern=\"abc\"\n",
    "Output: true\n",
    "Explanation: The string contains \"bca\" which is a permutation of the given pattern.\n",
    "<br>\n",
    "Example 2:\n",
    "\n",
    "Input: String=\"odicf\", Pattern=\"dc\"\n",
    "Output: false\n",
    "Explanation: No permutation of the pattern is present in the given string as a substring.\n",
    "    \n",
    "<br>\n",
    "Example 3:\n",
    "\n",
    "Input: String=\"bcdxabcdy\", Pattern=\"bcdyabcdx\"\n",
    "Output: true\n",
    "Explanation: Both the string and the pattern are a permutation of each other.\n",
    "\n",
    "<br>\n",
    "Example 4:\n",
    "\n",
    "Input: String=\"aaacb\", Pattern=\"abc\"\n",
    "Output: true\n",
    "Explanation: The string contains \"acb\" which is a permutation of the given pattern.\n",
    "\n"
   ]
  },
  {
   "cell_type": "markdown",
   "id": "2ffc46b3",
   "metadata": {},
   "source": [
    "## Solution:<br>\n",
    "This problem follows the Sliding Window pattern and we can use a similar sliding window strategy as discussed in Longest Substring with K Distinct Characters. We can use a HashMap to remember the frequencies of all characters in the given pattern. Our goal will be to match all the characters from this HashMap with a sliding window in the given string. Here are the steps of our algorithm:\n",
    "\n",
    "- Create a HashMap to calculate the frequencies of all characters in the pattern.<br>\n",
    "- Iterate through the string, adding one character at a time in the sliding window.<br>\n",
    "- If the character being added matches a character in the HashMap, decrement its frequency in the map. If the character frequency becomes zero, we got a complete match.<br>\n",
    "- If at any time, the number of characters matched is equal to the number of distinct characters in the pattern (i.e., total characters in the HashMap), we have gotten our required permutation.<br>\n",
    "- If the window size is greater than the length of the pattern, shrink the window to make it equal to the size of the pattern. At the same time, if the character going out was part of the pattern, put it back in the frequency HashMap."
   ]
  },
  {
   "cell_type": "code",
   "execution_count": null,
   "id": "bf3a448c",
   "metadata": {},
   "outputs": [],
   "source": []
  }
 ],
 "metadata": {
  "kernelspec": {
   "display_name": "Python 3 (ipykernel)",
   "language": "python",
   "name": "python3"
  },
  "language_info": {
   "codemirror_mode": {
    "name": "ipython",
    "version": 3
   },
   "file_extension": ".py",
   "mimetype": "text/x-python",
   "name": "python",
   "nbconvert_exporter": "python",
   "pygments_lexer": "ipython3",
   "version": "3.9.12"
  }
 },
 "nbformat": 4,
 "nbformat_minor": 5
}
