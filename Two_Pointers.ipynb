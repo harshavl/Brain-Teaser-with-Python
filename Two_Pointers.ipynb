{
 "cells": [
  {
   "cell_type": "markdown",
   "id": "2b7e5795",
   "metadata": {},
   "source": [
    "## Two_Pointers"
   ]
  },
  {
   "cell_type": "markdown",
   "id": "9fdd2da9",
   "metadata": {},
   "source": [
    "Problem Statement #\n",
    "Given an array of sorted numbers, remove all duplicates from it. You should not use any extra space; after removing the duplicates in-place return the new length of the array."
   ]
  },
  {
   "cell_type": "markdown",
   "id": "66d4571c",
   "metadata": {},
   "source": [
    "Input: [2, 3, 3, 3, 6, 9, 9]<br>\n",
    "\n",
    "Explanation: The first four elements after removing the duplicates will be [2, 3, 6, 9]."
   ]
  },
  {
   "cell_type": "code",
   "execution_count": 7,
   "id": "faf6cbbe",
   "metadata": {},
   "outputs": [
    {
     "data": {
      "text/plain": [
       "[1, 2]"
      ]
     },
     "execution_count": 7,
     "metadata": {},
     "output_type": "execute_result"
    }
   ],
   "source": [
    "\n",
    "l = [ 1,2,1,2]\n",
    "\n",
    "list( set( l ))\n",
    "\n"
   ]
  },
  {
   "cell_type": "code",
   "execution_count": 4,
   "id": "28a2ecc9",
   "metadata": {},
   "outputs": [
    {
     "name": "stdout",
     "output_type": "stream",
     "text": [
      "3\n"
     ]
    }
   ],
   "source": [
    "print( remove_duplicates( [ 1,2,2,3, 3]))"
   ]
  },
  {
   "cell_type": "code",
   "execution_count": 11,
   "id": "1c32df9c",
   "metadata": {},
   "outputs": [
    {
     "data": {
      "text/plain": [
       "[1, 2]"
      ]
     },
     "execution_count": 11,
     "metadata": {},
     "output_type": "execute_result"
    }
   ],
   "source": [
    "result = [] \n",
    "for i in l: \n",
    "    if i not in result: \n",
    "        result.append(i) \n",
    "        \n",
    "result"
   ]
  },
  {
   "cell_type": "markdown",
   "id": "fc656a9d",
   "metadata": {},
   "source": [
    "##Problem Statement #<br>\n",
    "Given a sorted array, create a new array containing squares of all the number of the input array in the sorted order."
   ]
  },
  {
   "cell_type": "markdown",
   "id": "af9d7fde",
   "metadata": {},
   "source": [
    "Example 1:\n",
    "\n",
    "Input: [-2, -1, 0, 2, 3]\n",
    "Output: [0, 1, 4, 4, 9]"
   ]
  },
  {
   "cell_type": "code",
   "execution_count": 12,
   "id": "c45f2ca8",
   "metadata": {},
   "outputs": [],
   "source": [
    "def make_squares( A ):\n",
    "    n = len( A )\n",
    "    squares = [ 0 for i in range( n ) ]\n",
    "    highestSquareId = n - 1\n",
    "    \n",
    "    left, right = 0, n - 1\n",
    "    while left <= right:\n",
    "        leftSquare = A[left] * A[left]\n",
    "        rightSquare = A[right] * A[ right]\n",
    "        \n",
    "        if leftSquare > rightSquare:\n",
    "            squares[highestSquareId] = leftSquare\n",
    "            left = left + 1\n",
    "        else:\n",
    "            squares[highestSquareId] = rightSquare\n",
    "            right = right - 1\n",
    "            \n",
    "        highestSquareId = highestSquareId - 1\n",
    "        \n",
    "    return squares\n"
   ]
  },
  {
   "cell_type": "code",
   "execution_count": 13,
   "id": "7f6934c9",
   "metadata": {},
   "outputs": [
    {
     "name": "stdout",
     "output_type": "stream",
     "text": [
      "[0, 1, 4, 4, 9]\n"
     ]
    }
   ],
   "source": [
    "print( make_squares( [ -2, -1, 0, 2, 3 ]))"
   ]
  },
  {
   "cell_type": "markdown",
   "id": "11f9ee4d",
   "metadata": {},
   "source": [
    "## Triplet Sum to Zero<br>\n",
    "\n",
    "Problem Statement #\n",
    "Given an array of unsorted numbers, find all unique triplets in it that add up to zero.\n",
    "\n",
    "<br>\n",
    "Example 1:\n",
    "\n",
    "Input: [-3, 0, 1, 2, -1, 1, -2]\n",
    "Output: [-3, 1, 2], [-2, 0, 2], [-2, 1, 1], [-1, 0, 1] <br>\n",
    "Explanation: There are four unique triplets whose sum is equal to zero."
   ]
  },
  {
   "cell_type": "code",
   "execution_count": 19,
   "id": "54304e73",
   "metadata": {},
   "outputs": [],
   "source": [
    "import math\n",
    "\n",
    "def threeNumberSum( array, target_sum ):\n",
    "    array.sort()\n",
    "    triplets = []\n",
    "    \n",
    "    for i in range( len(array) - 2 ):\n",
    "        left =i + 1\n",
    "        right = len( array ) - 1\n",
    "        \n",
    "        while left < right:\n",
    "            current_sum = array[i] + array[left] + array[right]\n",
    "            if current_sum == target_sum:\n",
    "                triplets.append([ array[i], array[left], array[right] ])\n",
    "                left = left + 1\n",
    "                right = right - 1\n",
    "                \n",
    "            elif current_sum < target_sum:\n",
    "                left = left + 1\n",
    "            elif current_sum > target_sum:\n",
    "                right = right - 1\n",
    "                \n",
    "    return triplets"
   ]
  },
  {
   "cell_type": "code",
   "execution_count": 20,
   "id": "e9e1730e",
   "metadata": {},
   "outputs": [
    {
     "data": {
      "text/plain": [
       "[[-5, 2, 3], [-2, -1, 3]]"
      ]
     },
     "execution_count": 20,
     "metadata": {},
     "output_type": "execute_result"
    }
   ],
   "source": [
    "threeNumberSum( [-5, 2, -1, -2, 3], 0 )"
   ]
  },
  {
   "cell_type": "code",
   "execution_count": 21,
   "id": "16079888",
   "metadata": {},
   "outputs": [
    {
     "data": {
      "text/plain": [
       "[[-5, -2, 3], [-5, -1, 2]]"
      ]
     },
     "execution_count": 21,
     "metadata": {},
     "output_type": "execute_result"
    }
   ],
   "source": [
    "threeNumberSum( [-5, 2, -1, -2, 3], -4  )"
   ]
  },
  {
   "cell_type": "markdown",
   "id": "b5665977",
   "metadata": {},
   "source": [
    "## Pythagorean Triplet in an array"
   ]
  },
  {
   "cell_type": "code",
   "execution_count": 11,
   "id": "c7d64362",
   "metadata": {},
   "outputs": [],
   "source": [
    "\n",
    "array = [ 3, 1, 4, 6, 5 ]\n",
    "\n",
    "def isTriplet(ar, n):\n",
    "    # Square all the elements\n",
    "    for i in range(n):\n",
    "        ar[i] = ar[i] * ar[i]\n",
    " \n",
    "    # sort array elements\n",
    "    ar.sort()\n",
    " \n",
    "    # fix one element\n",
    "    # and find other two\n",
    "    # i goes from n - 1 to 2\n",
    "    for i in range(n-1, 1, -1):\n",
    "        # start two index variables from\n",
    "        # two corners of the array and\n",
    "        # move them toward each other\n",
    "        left = 0\n",
    "        right = i - 1\n",
    "        while (left < right ):\n",
    "            # A triplet found\n",
    "            print( left, right, i )\n",
    "            if (ar[left] + ar[right] == ar[i]):\n",
    "                print( i,left,right)\n",
    "                return True\n",
    "            else:\n",
    "                if (ar[left] + ar[right] < ar[i]):\n",
    "                    left = left + 1\n",
    "                else:\n",
    "                    right = right - 1\n",
    "    # If we reach here, then no triplet found\n",
    "    return False\n"
   ]
  },
  {
   "cell_type": "code",
   "execution_count": 13,
   "id": "25d2b476",
   "metadata": {},
   "outputs": [],
   "source": [
    "def isTriplet(ar, n):\n",
    "    # Square all the elements\n",
    "    for i in range(n):\n",
    "        ar[i] = ar[i] * ar[i]\n",
    " \n",
    "    # sort array elements\n",
    "    ar.sort()\n",
    " \n",
    "    # fix one element\n",
    "    # and find other two\n",
    "    # i goes from n - 1 to 2\n",
    "    for i in range( len( ar ) ):\n",
    "        # start two index variables from\n",
    "        # two corners of the array and\n",
    "        # move them toward each other\n",
    "        left = 0\n",
    "        right = i - 1\n",
    "        while (left < right ):\n",
    "            # A triplet found\n",
    "            print( i, left , right )\n",
    "            if (ar[left] + ar[right] == ar[i]):\n",
    "                print( i,left,right)\n",
    "                return True\n",
    "            else:\n",
    "                if (ar[left] + ar[right] < ar[i]):\n",
    "                    left = left + 1\n",
    "                else:\n",
    "                    right = right - 1\n",
    "    # If we reach here, then no triplet found\n",
    "    return False"
   ]
  },
  {
   "cell_type": "code",
   "execution_count": 14,
   "id": "5d3d0e3a",
   "metadata": {},
   "outputs": [
    {
     "name": "stdout",
     "output_type": "stream",
     "text": [
      "2 0 1\n",
      "3 0 2\n",
      "3 1 2\n",
      "3 1 2\n"
     ]
    },
    {
     "data": {
      "text/plain": [
       "True"
      ]
     },
     "execution_count": 14,
     "metadata": {},
     "output_type": "execute_result"
    }
   ],
   "source": [
    "ar = [3, 1, 4, 6, 5]\n",
    "ar_size = len(ar)\n",
    "\n",
    "isTriplet(ar, ar_size)"
   ]
  },
  {
   "cell_type": "markdown",
   "id": "a839d571",
   "metadata": {},
   "source": [
    "## Triplet Sum Close to Target "
   ]
  },
  {
   "cell_type": "markdown",
   "id": "d42a0543",
   "metadata": {},
   "source": [
    "Problem Statement #<br>\n",
    "Given an array of unsorted numbers and a target number, find a triplet in the array whose sum is as close to the target number as possible, return the sum of the triplet. If there are more than one such triplet, return the sum of the triplet with the smallest sum.\n",
    "<br>\n",
    "Example 1:\n",
    "\n",
    "Input: [-2, 0, 1, 2], target=2\n",
    "Output: 1\n",
    "Explanation: The triplet [-2, 1, 2] has the closest sum to the target.\n",
    "\n",
    "<br>\n",
    "Example 2:\n",
    "\n",
    "Input: [-3, -1, 1, 2], target=1\n",
    "Output: 0\n",
    "Explanation: The triplet [-3, 1, 2] has the closest sum to the target.\n",
    "<br>\n",
    "Example 3:\n",
    "\n",
    "Input: [1, 0, 1, 1], target=100\n",
    "Output: 3\n",
    "Explanation: The triplet [1, 1, 1] has the closest sum to the target."
   ]
  },
  {
   "cell_type": "markdown",
   "id": "0d485b61",
   "metadata": {},
   "source": [
    "### Solution<br>\n",
    "We can follow a similar approach to iterate through the array, taking one number at a time. At every step, we will save the difference between the triplet and the target number, so that in the end, we can return the triplet with the closest sum."
   ]
  },
  {
   "cell_type": "code",
   "execution_count": 20,
   "id": "31e3c0b4",
   "metadata": {},
   "outputs": [],
   "source": [
    "import math\n",
    "\n",
    "def triplet_sum_close_to_target( A, target_sum ):\n",
    "    A.sort()\n",
    "    smallest_diff = math.inf\n",
    "    \n",
    "    for i in range( len( A )):\n",
    "        left = i  + 1\n",
    "        right = len(A) - 1\n",
    "        \n",
    "        while left < right:\n",
    "            target_diff = target_sum - A[i] - A[left] - A[right]\n",
    "            if target_diff == 0: # if exact sum\n",
    "                return target_sum - target_diff\n",
    "            \n",
    "            # 2nd part is handle the smallest sum when have more than \n",
    "            if abs( target_diff ) < abs(smallest_diff) or (abs(target_diff) == abs(smallest_diff)):\n",
    "                smallest_diff = target_diff\n",
    "                \n",
    "            if target_diff > 0:\n",
    "                left = left + 1 # we need a triplet with a bigger sum\n",
    "            else:\n",
    "                right = right - 1 # triplet with a smaller sum\n",
    "                \n",
    "    return target_sum - smallest_diff\n",
    "                "
   ]
  },
  {
   "cell_type": "code",
   "execution_count": 21,
   "id": "fbe535aa",
   "metadata": {},
   "outputs": [
    {
     "name": "stdout",
     "output_type": "stream",
     "text": [
      "3\n"
     ]
    }
   ],
   "source": [
    "print( triplet_sum_close_to_target( [-2,0,1,2], 2 ))"
   ]
  },
  {
   "cell_type": "markdown",
   "id": "9a84a89e",
   "metadata": {},
   "source": [
    "## Triplets with Smaller Sum"
   ]
  },
  {
   "cell_type": "markdown",
   "id": "a9855d5f",
   "metadata": {},
   "source": [
    "Problem Statement #<br>\n",
    "Given an array arr of unsorted numbers and a target sum, count all triplets in it such that arr[i] + arr[j] + arr[k] < target where i, j, and k are three different indices. Write a function to return the count of such triplets.\n",
    "<br>\n",
    "Example 1:\n",
    "\n",
    "Input: [-1, 0, 2, 3], target=3 \n",
    "Output: 2\n",
    "Explanation: There are two triplets whose sum is less than the target: [-1, 0, 3], [-1, 0, 2]\n",
    "     \n",
    "<br>\n",
    "    \n",
    "Example 2:\n",
    "\n",
    "Input: [-1, 4, 2, 1, 3], target=5 \n",
    "Output: 4\n",
    "Explanation: There are four triplets whose sum is less than the target: \n",
    "   [-1, 1, 4], [-1, 1, 3], [-1, 1, 2], [-1, 2, 3]"
   ]
  },
  {
   "cell_type": "markdown",
   "id": "6764e954",
   "metadata": {},
   "source": [
    "Problem Statement #<br>\n",
    "Given an array arr of unsorted numbers and a target sum, count all triplets in it such that arr[i] + arr[j] + arr[k] < target where i, j, and k are three different indices. Write a function to return the count of such triplets."
   ]
  },
  {
   "cell_type": "code",
   "execution_count": null,
   "id": "10ddd388",
   "metadata": {},
   "outputs": [],
   "source": [
    "\n",
    "\n",
    "\n",
    "            \n",
    "                "
   ]
  }
 ],
 "metadata": {
  "kernelspec": {
   "display_name": "Python 3 (ipykernel)",
   "language": "python",
   "name": "python3"
  },
  "language_info": {
   "codemirror_mode": {
    "name": "ipython",
    "version": 3
   },
   "file_extension": ".py",
   "mimetype": "text/x-python",
   "name": "python",
   "nbconvert_exporter": "python",
   "pygments_lexer": "ipython3",
   "version": "3.9.12"
  }
 },
 "nbformat": 4,
 "nbformat_minor": 5
}
