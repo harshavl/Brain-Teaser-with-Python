{
 "cells": [
  {
   "cell_type": "markdown",
   "metadata": {},
   "source": [
    "https://emre.me/coding-patterns/sliding-window/"
   ]
  },
  {
   "cell_type": "markdown",
   "metadata": {},
   "source": [
    "# Big O<br>\n",
    "Why ?  To pick the best code.this gives trade offs between time and space.<br>\n",
    "Time and Space complexity.<br>\n",
    "\n"
   ]
  },
  {
   "cell_type": "code",
   "execution_count": 4,
   "metadata": {},
   "outputs": [
    {
     "name": "stdout",
     "output_type": "stream",
     "text": [
      "15\n"
     ]
    }
   ],
   "source": [
    "\n",
    "nums=[1,2,3,4,5]\n",
    "n = len(nums)\n",
    "sum = 0\n",
    "\n",
    "for i in range(0,n):\n",
    "    sum+= nums[i] # counting no. of operations\n",
    "    \n",
    "print(sum)"
   ]
  },
  {
   "cell_type": "code",
   "execution_count": 3,
   "metadata": {},
   "outputs": [
    {
     "name": "stdout",
     "output_type": "stream",
     "text": [
      "15.0\n"
     ]
    }
   ],
   "source": [
    "print( n*(n+1)/ 2) # number of operations are less and less space due to less varaibles"
   ]
  },
  {
   "cell_type": "markdown",
   "metadata": {},
   "source": [
    "Time complexity: Linear, Quadratic, Log and logn"
   ]
  },
  {
   "cell_type": "markdown",
   "metadata": {},
   "source": [
    "Space Complexity: How much addition memory need?<br>\n",
    "\n",
    "hash tables: O(n)<br>\n",
    "Stacks: O(n)<br>\n",
    "queues:O(n)<br>\n",
    "Arrays: O(n) <br>\n",
    "2-D arrays: O(MN)<br>"
   ]
  },
  {
   "cell_type": "markdown",
   "metadata": {},
   "source": [
    "what is log?<br>\n",
    "\n",
    "log2(16) = 4<br>\n",
    "\n",
    "2^4 = 16"
   ]
  },
  {
   "cell_type": "markdown",
   "metadata": {},
   "source": [
    "What does a log represent ? # of times you can divide a # by the logs base, before you get a value that's less than or equal to 1.<br>\n",
    "\n",
    "  16<br>\n",
    "/2 <br>\n",
    "  8<br>\n",
    "/2 <br>\n",
    "  4<br>\n",
    "/2<br>\n",
    "  2<br>\n",
    "/2<br>\n",
    " 1<br>\n",
    " \n",
    " \n",
    "logN is better than N<br>\n",
    "\n",
    "Example, Count # of students in the class.\n"
   ]
  },
  {
   "cell_type": "markdown",
   "metadata": {},
   "source": [
    "## Sliding Window<br>\n",
    "\n",
    "Given an array of integers of size N, find maximum sum of K consequtive elements."
   ]
  },
  {
   "cell_type": "code",
   "execution_count": 10,
   "metadata": {},
   "outputs": [
    {
     "data": {
      "text/plain": [
       "103"
      ]
     },
     "execution_count": 10,
     "metadata": {},
     "output_type": "execute_result"
    }
   ],
   "source": [
    "arr = [1, 2, 100, -1, 5, 1000]\n",
    "\n",
    "arraySize = len(arr)\n",
    "windowSize = 3 \n",
    "\n",
    "window_sum = sum([arr[i] for i in range(windowSize)])\n",
    "window_sum"
   ]
  },
  {
   "cell_type": "code",
   "execution_count": 11,
   "metadata": {},
   "outputs": [
    {
     "data": {
      "text/plain": [
       "3"
      ]
     },
     "execution_count": 11,
     "metadata": {},
     "output_type": "execute_result"
    }
   ],
   "source": [
    "max_sum = window_sum\n",
    "\n",
    "arraySize-windowSize"
   ]
  },
  {
   "cell_type": "code",
   "execution_count": 12,
   "metadata": {},
   "outputs": [
    {
     "name": "stdout",
     "output_type": "stream",
     "text": [
      "index: 0\n",
      "103 1 -1\n",
      "103\n",
      "index: 1\n",
      "101 2 5\n",
      "104\n",
      "index: 2\n",
      "104 100 1000\n",
      "1004\n"
     ]
    }
   ],
   "source": [
    "for i in range(arraySize-windowSize):\n",
    "    print(\"index:\",i)\n",
    "    print( window_sum, arr[i] , arr[i + windowSize] )\n",
    "    \n",
    "    window_sum = window_sum - arr[i] + arr[i + windowSize]\n",
    "    max_sum = max(window_sum, max_sum)\n",
    "    \n",
    "    print( max_sum)\n",
    "    "
   ]
  },
  {
   "cell_type": "code",
   "execution_count": 8,
   "metadata": {},
   "outputs": [],
   "source": [
    "    \n",
    "def maxSum(arr, windowSize):\n",
    "    arraySize = len(arr)\n",
    "    # n must be greater than k\n",
    "    if arraySize <= windowSize:\n",
    "        print(\"Invalid operation\")\n",
    "        return -1\n",
    "\n",
    "    # Compute sum of first window of size k\n",
    "    window_sum = sum([arr[i] for i in range(windowSize)])\n",
    "    max_sum = window_sum\n",
    "    # Compute sums of remaining windows by\n",
    "    # removing first element of previous\n",
    "    # window and adding last element of\n",
    "    # current window.\n",
    "    for i in range(arraySize-windowSize):\n",
    "        window_sum = window_sum - arr[i] + arr[i + windowSize]\n",
    "        max_sum = max(window_sum, max_sum)\n",
    "\n",
    "    return max_sum"
   ]
  },
  {
   "cell_type": "code",
   "execution_count": 9,
   "metadata": {},
   "outputs": [
    {
     "name": "stdout",
     "output_type": "stream",
     "text": [
      "104\n"
     ]
    }
   ],
   "source": [
    "arr = [1, 2, 100, -1, 5]\n",
    "# maximum sum should be 104 => 100 + -1 + 5\n",
    "answer = maxSum(arr, 3)\n",
    "print(answer)"
   ]
  },
  {
   "cell_type": "markdown",
   "metadata": {},
   "source": [
    "## Move Arrays<br>\n",
    " write a function to move all 0s to the end."
   ]
  },
  {
   "cell_type": "code",
   "execution_count": 7,
   "metadata": {},
   "outputs": [],
   "source": [
    "# Solution 1:\n",
    "\n",
    "from typing  import List\n",
    "\n",
    "def seperate( in_list: List[int] ) -> List[int]:\n",
    "    low = 0\n",
    "    high = len(in_list) - 1\n",
    "    \n",
    "    while ( low < high ):\n",
    "        \n",
    "        if ( in_list[low] == 0 and low < high ):\n",
    "            low = low + 1\n",
    "            \n",
    "        if ( in_list[high] == 1 and low < high ):\n",
    "            high = high - 1\n",
    "            \n",
    "        if ( low < high ):\n",
    "            in_list[low], in_list[high] = in_list[high], in_list[low]\n",
    "            low = low + 1\n",
    "            high = high - 1\n",
    "            \n",
    "    return in_list\n",
    "        "
   ]
  },
  {
   "cell_type": "code",
   "execution_count": 8,
   "metadata": {},
   "outputs": [
    {
     "data": {
      "text/plain": [
       "[0, 0, 0, 1, 1]"
      ]
     },
     "execution_count": 8,
     "metadata": {},
     "output_type": "execute_result"
    }
   ],
   "source": [
    "seperate( [ 1,0,1,0,0])"
   ]
  },
  {
   "cell_type": "code",
   "execution_count": 9,
   "metadata": {},
   "outputs": [],
   "source": [
    "def seperate( in_list: List[int] ) -> List[int]:\n",
    "    low = 0\n",
    "    high = len(in_list) - 1\n",
    "    \n",
    "    while ( low < high ):\n",
    "        \n",
    "        if ( in_list[low] == 0 and low < high ):\n",
    "            low = low + 1\n",
    "            \n",
    "        if ( in_list[high] != 0 and low < high ):\n",
    "            high = high - 1\n",
    "            \n",
    "        if ( low < high ):\n",
    "            in_list[low], in_list[high] = in_list[high], in_list[low]\n",
    "            low = low + 1\n",
    "            high = high - 1\n",
    "            \n",
    "    return in_list"
   ]
  },
  {
   "cell_type": "code",
   "execution_count": 10,
   "metadata": {},
   "outputs": [
    {
     "data": {
      "text/plain": [
       "[0, 0, 0, 4, 2]"
      ]
     },
     "execution_count": 10,
     "metadata": {},
     "output_type": "execute_result"
    }
   ],
   "source": [
    "seperate( [ 0,2,0,4,0])"
   ]
  },
  {
   "cell_type": "markdown",
   "metadata": {},
   "source": [
    "## Fibonacci Sequence"
   ]
  },
  {
   "cell_type": "code",
   "execution_count": 2,
   "metadata": {},
   "outputs": [],
   "source": [
    "def fibonacci(n):\n",
    "    if n <= 2:\n",
    "        return 1\n",
    "    return fibonacci(n - 1) + fibonacci(n - 2)\n"
   ]
  },
  {
   "cell_type": "code",
   "execution_count": 3,
   "metadata": {},
   "outputs": [],
   "source": [
    "def fibonacci(n):\n",
    "    previous = 1\n",
    "    current = 1\n",
    "    for i in range(n - 2):\n",
    "        next = current + previous\n",
    "        previous, current = current, next\n",
    "        \n",
    "    return current"
   ]
  },
  {
   "cell_type": "markdown",
   "metadata": {},
   "source": [
    "### Number of ways to climb stairs<br>\n",
    "\n",
    "Count the number of ways to climb a staircase with n steps, if you are allowed to climb either\n",
    "one step or two steps at a time.<br>\n",
    "\n",
    "Example: For n = 2, there are 2 ways to climb the stairs:<br>\n",
    "• climb one step, then another step;<br>\n",
    "• climb two steps at a time directly to the second step.<br>\n",
    "\n",
    "\n"
   ]
  },
  {
   "cell_type": "markdown",
   "metadata": {},
   "source": [
    "Clarification questions<br>\n",
    "Q: How large can n be?<br>\n",
    "A: Up to 50.<br>\n",
    "Q: Can n be zero or negative? How should invalid values be handled?<br>\n",
    "A: n >= 1. You may assume that no invalid values are passed.<br>"
   ]
  },
  {
   "cell_type": "code",
   "execution_count": 5,
   "metadata": {},
   "outputs": [],
   "source": [
    "from functools import lru_cache\n",
    "\n",
    "@lru_cache(maxsize=None)\n",
    "def count_num_paths_stairs(n):\n",
    "    \n",
    "    if n <= 1:\n",
    "        return 1\n",
    "    num_paths_one_step = count_num_paths_stairs(n - 1)\n",
    "    num_paths_two_steps = count_num_paths_stairs(n - 2)\n",
    "    return num_paths_one_step + num_paths_two_steps\n",
    "    "
   ]
  },
  {
   "cell_type": "code",
   "execution_count": 6,
   "metadata": {},
   "outputs": [],
   "source": [
    "\n",
    "def count_num_paths_stairs(n):\n",
    "    if n <= 1:\n",
    "        return 1\n",
    "    \n",
    "    # num_paths[i] = number of paths to climb to i­th step.\n",
    "    num_paths = [0] * (n + 1)\n",
    "    \n",
    "    # Initial position: just one possible way to get there.\n",
    "\n",
    "    num_paths[0] = 1\n",
    "    # First step: just one possible way to get there.\n",
    "    num_paths[1] = 1\n",
    "    for i in range(2, n + 1):\n",
    "        num_paths_one_step = num_paths[i - 1]\n",
    "        num_paths_two_steps = num_paths[i - 2]\n",
    "        num_paths[i] = num_paths_one_step + num_paths_two_steps\n",
    "    return num_paths[n]\n"
   ]
  },
  {
   "cell_type": "code",
   "execution_count": 7,
   "metadata": {},
   "outputs": [],
   "source": [
    "# one more method\n",
    "\n",
    "def count_num_paths_stairs(n):\n",
    "    if n <= 1:\n",
    "        return 1\n",
    "    # Initial position: just one possible way to get there.\n",
    "    num_paths_prev = 1\n",
    "    # First step: just one possible way to get there.\n",
    "    num_paths_current = 1\n",
    "    for i in range(2, n + 1):\n",
    "        num_paths_one_step = num_paths_current\n",
    "        num_paths_two_steps = num_paths_prev\n",
    "        num_paths_prev = num_paths_current\n",
    "        num_paths_current = num_paths_one_step + num_paths_two_steps\n",
    "    return num_paths_current\n"
   ]
  },
  {
   "cell_type": "markdown",
   "metadata": {},
   "source": [
    "### Reverse number"
   ]
  },
  {
   "cell_type": "code",
   "execution_count": 11,
   "metadata": {},
   "outputs": [],
   "source": [
    "def reverse (x) :\n",
    "    result, x_remaining = 0, abs(x)\n",
    "    while x_remaining:\n",
    "        result = result * 10 + x_remaining % 10\n",
    "        x_remaining //= 10\n",
    "    return -result if x < 0 else result\n"
   ]
  },
  {
   "cell_type": "code",
   "execution_count": 12,
   "metadata": {},
   "outputs": [
    {
     "data": {
      "text/plain": [
       "4321"
      ]
     },
     "execution_count": 12,
     "metadata": {},
     "output_type": "execute_result"
    }
   ],
   "source": [
    "reverse( 1234 )"
   ]
  },
  {
   "cell_type": "code",
   "execution_count": 17,
   "metadata": {},
   "outputs": [],
   "source": [
    "# Returns the number of valid entries after deletion\n",
    "\n",
    "def delete_duplicates(A):\n",
    "    if not A:\n",
    "        return 0\n",
    "    write_index = 1\n",
    "    for i in range(1, len(A)):\n",
    "        if A[write_index - 1] != A[i]:\n",
    "            A[write_index ] = A[i]\n",
    "            write_index += 1\n",
    "            \n",
    "    return write_index\n",
    "            \n"
   ]
  },
  {
   "cell_type": "code",
   "execution_count": 20,
   "metadata": {},
   "outputs": [
    {
     "data": {
      "text/plain": [
       "3"
      ]
     },
     "execution_count": 20,
     "metadata": {},
     "output_type": "execute_result"
    }
   ],
   "source": [
    "delete_duplicates( [1,2,1, 1, 1])"
   ]
  },
  {
   "cell_type": "markdown",
   "metadata": {},
   "source": []
  },
  {
   "cell_type": "markdown",
   "metadata": {},
   "source": [
    "### You are given an array people where people[i] is the weight of the ith person, and an infinite number of boats where each boat can carry a maximum weight of limit. Each boat carries at most two people at the same time, provided the sum of the weight of those people is at most limit.<br>\n",
    "\n",
    "Example 1:\n",
    "\n",
    "Input: people = [1,2], limit = 3\n",
    "Output: 1\n",
    "Explanation: 1 boat (1, 2)<br>\n",
    "\n",
    "Example 2:\n",
    "\n",
    "Input: people = [3,2,2,1], limit = 3\n",
    "Output: 3\n",
    "Explanation: 3 boats (1, 2), (2) and (3)<br>\n",
    "\n",
    "Example 3:\n",
    "\n",
    "Input: people = [3,5,3,4], limit = 5\n",
    "Output: 4\n",
    "Explanation: 4 boats (3), (3), (4), (5)"
   ]
  },
  {
   "cell_type": "code",
   "execution_count": 22,
   "metadata": {},
   "outputs": [],
   "source": [
    "\n",
    "from typing import List\n",
    "\n",
    "def num_rescue_boats( people: List[int], limit: int )-> int:\n",
    "    people.sort()\n",
    "    \n",
    "    left = 0\n",
    "    right = len(people)  - 1\n",
    "    \n",
    "    boats_number = 0\n",
    "    \n",
    "    while left <= right:\n",
    "        \n",
    "        if left == right:\n",
    "            boats_number = boats_number + 1\n",
    "            break\n",
    "            \n",
    "        if ( people[left] + people[right] <= limit ):\n",
    "            left = left + 1\n",
    "            \n",
    "        right = right - 1\n",
    "        boats_number = boats_number + 1\n",
    "        \n",
    "    return boats_number\n"
   ]
  },
  {
   "cell_type": "code",
   "execution_count": 24,
   "metadata": {},
   "outputs": [
    {
     "data": {
      "text/plain": [
       "1"
      ]
     },
     "execution_count": 24,
     "metadata": {},
     "output_type": "execute_result"
    }
   ],
   "source": [
    "num_rescue_boats( [1,2 ], 3)"
   ]
  },
  {
   "cell_type": "code",
   "execution_count": 25,
   "metadata": {},
   "outputs": [
    {
     "data": {
      "text/plain": [
       "3"
      ]
     },
     "execution_count": 25,
     "metadata": {},
     "output_type": "execute_result"
    }
   ],
   "source": [
    "num_rescue_boats( [3,2,2,1 ], 3)"
   ]
  },
  {
   "cell_type": "code",
   "execution_count": 26,
   "metadata": {},
   "outputs": [
    {
     "data": {
      "text/plain": [
       "4"
      ]
     },
     "execution_count": 26,
     "metadata": {},
     "output_type": "execute_result"
    }
   ],
   "source": [
    "num_rescue_boats( [3,5,3,4 ], 5 )"
   ]
  },
  {
   "cell_type": "markdown",
   "metadata": {},
   "source": [
    "## Valid Mountain Array<br>\n",
    "https://leetcode.com/problems/valid-mountain-array/ <br>\n",
    "\n",
    "Example 1:\n",
    "\n",
    "Input: arr = [2,1]\n",
    "Output: false\n",
    "Example 2:\n",
    "\n",
    "Input: arr = [3,5,5]\n",
    "Output: false\n",
    "Example 3:\n",
    "\n",
    "Input: arr = [0,3,2,1]\n",
    "Output: true"
   ]
  },
  {
   "cell_type": "code",
   "execution_count": 3,
   "metadata": {},
   "outputs": [],
   "source": [
    "from typing import List\n",
    "\n",
    "def validMountainArray( A: List[int]) -> bool:\n",
    "    if(len(A)<3):\n",
    "        return False\n",
    "\n",
    "    i = 1\n",
    "    while(i<len(A) and A[i]>A[i-1]):\n",
    "        i+=1\n",
    "\n",
    "    if(i==1 or i==len(A)):\n",
    "        return False\n",
    "\n",
    "    while(i<len(A) and A[i]<A[i-1]):\n",
    "        i+=1\n",
    "\n",
    "    return i==len(A)"
   ]
  },
  {
   "cell_type": "code",
   "execution_count": 4,
   "metadata": {},
   "outputs": [
    {
     "data": {
      "text/plain": [
       "True"
      ]
     },
     "execution_count": 4,
     "metadata": {},
     "output_type": "execute_result"
    }
   ],
   "source": [
    "validMountainArray([0,3,2,1] )"
   ]
  },
  {
   "cell_type": "code",
   "execution_count": 5,
   "metadata": {},
   "outputs": [
    {
     "data": {
      "text/plain": [
       "False"
      ]
     },
     "execution_count": 5,
     "metadata": {},
     "output_type": "execute_result"
    }
   ],
   "source": [
    "validMountainArray([3,5,5] )"
   ]
  },
  {
   "cell_type": "markdown",
   "metadata": {},
   "source": [
    "## Find First and Last Position of Element in Sorted Array<br>\n",
    "Given an array of integers nums sorted in ascending order, find the starting and ending position of a given target value.\n",
    "\n",
    "If target is not found in the array, return [-1, -1].<br>\n",
    "\n",
    "You must write an algorithm with O(log n) runtime complexity.<br>\n",
    "Example 1:<Br>\n",
    "\n",
    "Input: nums = [5,7,7,8,8,10], target = 8<br>\n",
    "    \n",
    "Output: [3,4]<br>\n",
    "    \n",
    "Example 2:<br>\n",
    "\n",
    "Input: nums = [5,7,7,8,8,10], target = 6<br>\n",
    "Output: [-1,-1]"
   ]
  },
  {
   "cell_type": "code",
   "execution_count": 7,
   "metadata": {},
   "outputs": [],
   "source": [
    "\n",
    "\n",
    "def get_left_position( nums, target ):\n",
    "    left = 0\n",
    "    right = len(nums) - 1\n",
    "    \n",
    "    while left <= right:\n",
    "        mid = left + ( right - left ) // 2\n",
    "        \n",
    "        if nums[mid] == target:\n",
    "            if ( mid - 1 >= 0  and nums[mid - 1] != target or mid == 0 ):\n",
    "                return mid\n",
    "            \n",
    "            right = mid - 1\n",
    "            \n",
    "        elif nums[mid] > target:\n",
    "            right = mid - 1\n",
    "            \n",
    "        else:\n",
    "            left = mid + 1\n",
    "    return -1 \n",
    "\n",
    "\n",
    "            \n",
    "            "
   ]
  },
  {
   "cell_type": "code",
   "execution_count": 9,
   "metadata": {},
   "outputs": [
    {
     "data": {
      "text/plain": [
       "3"
      ]
     },
     "execution_count": 9,
     "metadata": {},
     "output_type": "execute_result"
    }
   ],
   "source": [
    "get_left_position([5,7,7,8,8,10], 8 )"
   ]
  },
  {
   "cell_type": "code",
   "execution_count": 10,
   "metadata": {},
   "outputs": [
    {
     "data": {
      "text/plain": [
       "-1"
      ]
     },
     "execution_count": 10,
     "metadata": {},
     "output_type": "execute_result"
    }
   ],
   "source": [
    "get_left_position([5,7,7,8,8,10], 6 )"
   ]
  },
  {
   "cell_type": "markdown",
   "metadata": {},
   "source": [
    "#### There are 100 doors in a row that are all initially closed. You make 100 passes by the doors. The first time through, visit every door and ‘toggle’ the door (if the door is closed, open it; if it is open, close it). The second time, only visit every 2nd door (i.e., door #2, #4, #6, …) and toggle it. The third time, visit every 3rd door (i.e., door #3, #6, #9, …), etc., until you only visit the 100th door."
   ]
  },
  {
   "cell_type": "markdown",
   "metadata": {},
   "source": [
    "- There are doors numbered 1 through 100 that start closed. We need to find all the numbers of the open doors at the end of the function, returned in an array.<br>\n",
    "- We will iterate over the range 100 times, toggling the doors open/closed (represented by true/false)<br>\n",
    "- Each iteration over the range the gap between toggles increases by a multiple, incremented by one.\n",
    "On the last iteration only the 100th door will be toggled"
   ]
  },
  {
   "cell_type": "code",
   "execution_count": 1,
   "metadata": {},
   "outputs": [
    {
     "name": "stdout",
     "output_type": "stream",
     "text": [
      "[False, True, True, True, True, True, True, True, True, True, True, True, True, True, True, True, True, True, True, True, True, True, True, True, True, True, True, True, True, True, True, True, True, True, True, True, True, True, True, True, True, True, True, True, True, True, True, True, True, True, True, True, True, True, True, True, True, True, True, True, True, True, True, True, True, True, True, True, True, True, True, True, True, True, True, True, True, True, True, True, True, True, True, True, True, True, True, True, True, True, True, True, True, True, True, True, True, True, True, True, True]\n"
     ]
    }
   ],
   "source": [
    "doors = [ False ] * 101\n",
    "\n",
    "for i in range(1,101):\n",
    "    doors[i] = not doors[i]\n",
    "    \n",
    "print(doors)"
   ]
  },
  {
   "cell_type": "code",
   "execution_count": 4,
   "metadata": {},
   "outputs": [
    {
     "name": "stdout",
     "output_type": "stream",
     "text": [
      "x: 1 y: 1\n",
      "x: 1 y: 2\n",
      "x: 1 y: 3\n",
      "x: 2 y: 1\n",
      "x: 2 y: 2\n",
      "x: 2 y: 3\n",
      "x: 3 y: 1\n",
      "x: 3 y: 2\n",
      "x: 3 y: 3\n",
      "x: 4 y: 1\n",
      "x: 4 y: 2\n",
      "x: 4 y: 3\n",
      "x: 5 y: 1\n",
      "x: 5 y: 2\n",
      "x: 5 y: 3\n"
     ]
    }
   ],
   "source": [
    "\n",
    "for x in range(1,6):\n",
    "    for y in range(1,4):\n",
    "        print(\"x:\", x , \"y:\", y )"
   ]
  },
  {
   "cell_type": "code",
   "execution_count": 5,
   "metadata": {},
   "outputs": [
    {
     "name": "stdout",
     "output_type": "stream",
     "text": [
      "1\n",
      "3\n",
      "5\n",
      "7\n",
      "9\n"
     ]
    }
   ],
   "source": [
    "for i in range( 1, 11, 2 ):\n",
    "    print(i)"
   ]
  },
  {
   "cell_type": "code",
   "execution_count": 6,
   "metadata": {},
   "outputs": [],
   "source": [
    "def check_doors_round(n, number_doors=100):\n",
    "    \"\"\"\n",
    "    Check which doors are open and which are closed after n rounds\n",
    "\n",
    "    :param int n: number of rounds\n",
    "    :param int number_doors: number of doors to check\n",
    "    :return: list of doors, with states of open (True) or closed (False)\n",
    "    \"\"\"\n",
    "\n",
    "    if not isinstance(n, int):\n",
    "        raise TypeError (f\"n Should be an integer, not {type(n)}\")\n",
    "    if n < 0:\n",
    "        raise ValueError (\"n Should be larger than 0.\")\n",
    "    if not isinstance(number_doors, int):\n",
    "        raise TypeError (f\"number_doors Should be an integer, not {type(number_doors)}\")\n",
    "    if number_doors < 0:\n",
    "        raise ValueError (\"number_doors Should be larger than 0.\")\n",
    "\n",
    "    doors = [False] * number_doors\n",
    "    for step in range(n):\n",
    "        for (index, door) in enumerate(doors):\n",
    "            if (index+1) % (step+1) == 0:\n",
    "                doors[index] = not door\n",
    "    return doors\n"
   ]
  },
  {
   "cell_type": "code",
   "execution_count": 7,
   "metadata": {},
   "outputs": [
    {
     "data": {
      "text/plain": [
       "[True,\n",
       " False,\n",
       " False,\n",
       " True,\n",
       " False,\n",
       " False,\n",
       " False,\n",
       " False,\n",
       " True,\n",
       " False,\n",
       " False,\n",
       " False,\n",
       " False,\n",
       " False,\n",
       " False,\n",
       " True,\n",
       " False,\n",
       " False,\n",
       " False,\n",
       " False,\n",
       " False,\n",
       " False,\n",
       " False,\n",
       " False,\n",
       " True,\n",
       " False,\n",
       " False,\n",
       " False,\n",
       " False,\n",
       " False,\n",
       " False,\n",
       " False,\n",
       " False,\n",
       " False,\n",
       " False,\n",
       " True,\n",
       " False,\n",
       " False,\n",
       " False,\n",
       " False,\n",
       " False,\n",
       " False,\n",
       " False,\n",
       " False,\n",
       " False,\n",
       " False,\n",
       " False,\n",
       " False,\n",
       " True,\n",
       " False,\n",
       " False,\n",
       " False,\n",
       " False,\n",
       " False,\n",
       " False,\n",
       " False,\n",
       " False,\n",
       " False,\n",
       " False,\n",
       " False,\n",
       " False,\n",
       " False,\n",
       " False,\n",
       " True,\n",
       " False,\n",
       " False,\n",
       " False,\n",
       " False,\n",
       " False,\n",
       " False,\n",
       " False,\n",
       " False,\n",
       " False,\n",
       " False,\n",
       " False,\n",
       " False,\n",
       " False,\n",
       " False,\n",
       " False,\n",
       " False,\n",
       " True,\n",
       " False,\n",
       " False,\n",
       " False,\n",
       " False,\n",
       " False,\n",
       " False,\n",
       " False,\n",
       " False,\n",
       " False,\n",
       " False,\n",
       " False,\n",
       " False,\n",
       " False,\n",
       " False,\n",
       " False,\n",
       " False,\n",
       " False,\n",
       " False,\n",
       " True]"
      ]
     },
     "execution_count": 7,
     "metadata": {},
     "output_type": "execute_result"
    }
   ],
   "source": [
    "check_doors_round( 100 )"
   ]
  },
  {
   "cell_type": "markdown",
   "metadata": {},
   "source": [
    "### Given a string s, find the length of the longest substring without repeating characters.\n",
    "https://leetcode.com/problems/longest-substring-without-repeating-characters/ <br>\n",
    "\n",
    "Input: s = \"pwwkew\"\n",
    "Output: 3\n",
    "Explanation: The answer is \"wke\", with the length of 3.\n",
    "Notice that the answer must be a substring, \"pwke\" is a subsequence and not a substrin"
   ]
  },
  {
   "cell_type": "code",
   "execution_count": 17,
   "metadata": {},
   "outputs": [],
   "source": [
    "def lengthOfLongestSubstring(s: str) -> int:\n",
    "    m = {}\n",
    "    left = 0\n",
    "    right = 0\n",
    "    ans = 0\n",
    "    n = len(s)\n",
    "    while(left<n and right<n):\n",
    "        el = s[right]\n",
    "        if(el in m):\n",
    "            left = max(left,m[el]+1)\n",
    "        m[el] = right\n",
    "        ans = max(ans,right-left+1)\n",
    "        right+=1\n",
    "    print(m)\n",
    "    return ans"
   ]
  },
  {
   "cell_type": "code",
   "execution_count": 18,
   "metadata": {},
   "outputs": [
    {
     "name": "stdout",
     "output_type": "stream",
     "text": [
      "{'B': 2}\n"
     ]
    },
    {
     "data": {
      "text/plain": [
       "1"
      ]
     },
     "execution_count": 18,
     "metadata": {},
     "output_type": "execute_result"
    }
   ],
   "source": [
    "lengthOfLongestSubstring(\"BBB\")"
   ]
  },
  {
   "cell_type": "code",
   "execution_count": 19,
   "metadata": {},
   "outputs": [
    {
     "name": "stdout",
     "output_type": "stream",
     "text": [
      "{'p': 0, 'w': 5, 'k': 3, 'e': 4}\n"
     ]
    },
    {
     "data": {
      "text/plain": [
       "3"
      ]
     },
     "execution_count": 19,
     "metadata": {},
     "output_type": "execute_result"
    }
   ],
   "source": [
    "lengthOfLongestSubstring(\"pwwkew\")"
   ]
  },
  {
   "cell_type": "code",
   "execution_count": 20,
   "metadata": {},
   "outputs": [
    {
     "name": "stdout",
     "output_type": "stream",
     "text": [
      "{'a': 3, 'b': 7, 'c': 5}\n"
     ]
    },
    {
     "data": {
      "text/plain": [
       "3"
      ]
     },
     "execution_count": 20,
     "metadata": {},
     "output_type": "execute_result"
    }
   ],
   "source": [
    "lengthOfLongestSubstring(\"abcabcbb\")"
   ]
  },
  {
   "cell_type": "markdown",
   "metadata": {},
   "source": [
    "## Reverse strings"
   ]
  },
  {
   "cell_type": "code",
   "execution_count": 4,
   "metadata": {},
   "outputs": [],
   "source": [
    "def reverse_string(string):\n",
    "    length = len(string)\n",
    "    temp = ''\n",
    "    for i in range(length):\n",
    "        temp += string[length - i - 1]\n",
    "    return temp\n"
   ]
  },
  {
   "cell_type": "code",
   "execution_count": 5,
   "metadata": {},
   "outputs": [
    {
     "data": {
      "text/plain": [
       "'ahsrah'"
      ]
     },
     "execution_count": 5,
     "metadata": {},
     "output_type": "execute_result"
    }
   ],
   "source": [
    "reverse_string(\"harsha\")"
   ]
  },
  {
   "cell_type": "code",
   "execution_count": 8,
   "metadata": {},
   "outputs": [],
   "source": [
    "def reverse_a_string(string: str) -> str:\n",
    "    \"\"\"\n",
    "    This method is used to reverse a string.\n",
    "    Args:\n",
    "        string: a string to reverse\n",
    "\n",
    "    Returns: a reversed string\n",
    "    \"\"\"\n",
    "    if type(string) != str:\n",
    "        raise TypeError(\"{0} This not a string, Please provide a string!\".format(type(string)))\n",
    "    string_place_holder = \"\"\n",
    "    start = 0\n",
    "    end = len(string) - 1\n",
    "    if end >= 1:\n",
    "        while start <= end:\n",
    "            string_place_holder = string_place_holder + string[end]\n",
    "            end -= 1\n",
    "        return string_place_holder\n",
    "    else:\n",
    "        return string"
   ]
  },
  {
   "cell_type": "code",
   "execution_count": 9,
   "metadata": {},
   "outputs": [
    {
     "data": {
      "text/plain": [
       "'ahsrah'"
      ]
     },
     "execution_count": 9,
     "metadata": {},
     "output_type": "execute_result"
    }
   ],
   "source": [
    "reverse_a_string(\"harsha\")"
   ]
  },
  {
   "cell_type": "markdown",
   "metadata": {},
   "source": [
    "## Add the numbers"
   ]
  },
  {
   "cell_type": "code",
   "execution_count": 5,
   "metadata": {},
   "outputs": [
    {
     "data": {
      "text/plain": [
       "6"
      ]
     },
     "execution_count": 5,
     "metadata": {},
     "output_type": "execute_result"
    }
   ],
   "source": [
    "number = [ 1,2,3]\n",
    "\n",
    "sum( number )"
   ]
  },
  {
   "cell_type": "markdown",
   "metadata": {},
   "source": [
    "## Compare the Triplets\n",
    "\n",
    "If equal no points to any one."
   ]
  },
  {
   "cell_type": "code",
   "execution_count": 3,
   "metadata": {},
   "outputs": [],
   "source": [
    "def compare_tripletes( a, b ):\n",
    "    alice = bob = 0\n",
    "    \n",
    "    for i in range( len(a)):\n",
    "        if a[i] > b[i]:\n",
    "            alice += 1\n",
    "        elif a[i] < b[i]:\n",
    "            bob += 1\n",
    "    return alice, bob "
   ]
  },
  {
   "cell_type": "code",
   "execution_count": 4,
   "metadata": {},
   "outputs": [
    {
     "data": {
      "text/plain": [
       "(0, 0)"
      ]
     },
     "execution_count": 4,
     "metadata": {},
     "output_type": "execute_result"
    }
   ],
   "source": [
    "compare_tripletes( [1,2,3], [ 1,2,3 ])"
   ]
  },
  {
   "cell_type": "code",
   "execution_count": 5,
   "metadata": {},
   "outputs": [
    {
     "data": {
      "text/plain": [
       "(0, 1)"
      ]
     },
     "execution_count": 5,
     "metadata": {},
     "output_type": "execute_result"
    }
   ],
   "source": [
    "compare_tripletes( [1,2,3], [ 1,2,4 ])"
   ]
  },
  {
   "cell_type": "code",
   "execution_count": 6,
   "metadata": {},
   "outputs": [
    {
     "data": {
      "text/plain": [
       "(1, 1)"
      ]
     },
     "execution_count": 6,
     "metadata": {},
     "output_type": "execute_result"
    }
   ],
   "source": [
    "compare_tripletes( [1,2,3], [ 0,2,4 ])"
   ]
  },
  {
   "cell_type": "code",
   "execution_count": 8,
   "metadata": {},
   "outputs": [
    {
     "name": "stdout",
     "output_type": "stream",
     "text": [
      "0 2\n"
     ]
    }
   ],
   "source": [
    "\n",
    "a=[1,2,3]\n",
    "b=[1,3,4]\n",
    "\n",
    "alice = bob = 0\n",
    "\n",
    "for i in range( len(a)):\n",
    "    if ( a[i] > b[i]:\n",
    "        alice += 1\n",
    "    elif a[i] < b[i]:\n",
    "        bob += 1\n",
    "        \n",
    "        \n",
    "print( alice, bob )"
   ]
  },
  {
   "cell_type": "markdown",
   "metadata": {},
   "source": [
    "## Add Big Sum"
   ]
  },
  {
   "cell_type": "code",
   "execution_count": 18,
   "metadata": {},
   "outputs": [
    {
     "data": {
      "text/plain": [
       "4950.0"
      ]
     },
     "execution_count": 18,
     "metadata": {},
     "output_type": "execute_result"
    }
   ],
   "source": [
    "n = 100\n",
    "\n",
    "( n * ( n - 1 ) ) / 2"
   ]
  },
  {
   "cell_type": "code",
   "execution_count": 21,
   "metadata": {},
   "outputs": [
    {
     "data": {
      "text/plain": [
       "10"
      ]
     },
     "execution_count": 21,
     "metadata": {},
     "output_type": "execute_result"
    }
   ],
   "source": [
    "# best: using built-in functions\n",
    "\n",
    "sum( [1,2,3,4] )"
   ]
  },
  {
   "cell_type": "markdown",
   "metadata": {},
   "source": [
    "## Diagonal Difference<br>\n",
    " 1 2 3<br>\n",
    " 4 5 6<br>\n",
    " 9 8 9 <br>\n",
    " \n",
    " LR- 1 + 5 + 9 = 15<br>\n",
    " RL- 3+5+9 = 17<br>\n",
    " \n",
    " | 15 - 17 | = 2\n",
    " "
   ]
  },
  {
   "cell_type": "markdown",
   "metadata": {},
   "source": [
    "## Count Plus Minus"
   ]
  },
  {
   "cell_type": "code",
   "execution_count": 25,
   "metadata": {},
   "outputs": [],
   "source": [
    "\n",
    "def plus_minus( arr ):\n",
    "    pos = neg = zero = 0\n",
    "    \n",
    "    for i in range( len(arr) ):\n",
    "        if arr[i] > 0:\n",
    "            pos += 1\n",
    "        elif arr[i] < 0:\n",
    "            neg += 1\n",
    "        else:\n",
    "            zero += 1\n",
    "            \n",
    "    print( pos/ len(arr) )\n",
    "    print( neg / len(arr) )\n",
    "    print( zero / len(arr) )"
   ]
  },
  {
   "cell_type": "code",
   "execution_count": 27,
   "metadata": {},
   "outputs": [
    {
     "name": "stdout",
     "output_type": "stream",
     "text": [
      "0.2857142857142857\n",
      "0.42857142857142855\n",
      "0.2857142857142857\n"
     ]
    }
   ],
   "source": [
    "plus_minus( [ 1,-1,0, 0, -1, 1, -1 ])"
   ]
  },
  {
   "cell_type": "markdown",
   "metadata": {},
   "source": [
    "## Create Staircase"
   ]
  },
  {
   "cell_type": "code",
   "execution_count": 32,
   "metadata": {},
   "outputs": [
    {
     "name": "stdout",
     "output_type": "stream",
     "text": [
      "    #\n",
      "   ##\n",
      "  ###\n",
      " ####\n",
      "#####\n"
     ]
    }
   ],
   "source": [
    "\n",
    "def staircase(n):\n",
    "    for i in range(1, n+1 ):\n",
    "        s = '#' * i\n",
    "        print( s.rjust(n) )\n",
    "        \n",
    "        \n",
    "staircase(5)"
   ]
  },
  {
   "cell_type": "markdown",
   "metadata": {},
   "source": [
    "## Min Max Sum"
   ]
  },
  {
   "cell_type": "code",
   "execution_count": 42,
   "metadata": {},
   "outputs": [],
   "source": [
    "from math import inf\n",
    "\n",
    "\n",
    "def minimum( a, b ):\n",
    "    return a if a < b else b\n",
    "\n",
    "def maximum(a,b):\n",
    "    return a if a > b else b\n",
    "\n",
    "\n",
    "def mini_max( arr ):\n",
    "    s = 0\n",
    "    minsum = inf\n",
    "    maxsum = 0\n",
    "    n = len(arr)\n",
    "    \n",
    "    for i in range(n):\n",
    "        s = s + arr[i]\n",
    "        minsum = min( minsum, arr[i] )\n",
    "        maxnum = max( maxsum, arr[i] )\n",
    "    print( s - maxnum , s - minsum )\n",
    "    \n",
    "\n"
   ]
  },
  {
   "cell_type": "code",
   "execution_count": 43,
   "metadata": {},
   "outputs": [
    {
     "name": "stdout",
     "output_type": "stream",
     "text": [
      "16 24\n",
      "None\n"
     ]
    }
   ],
   "source": [
    "print( mini_max( [1, 3, 5, 7, 9] ))"
   ]
  },
  {
   "cell_type": "code",
   "execution_count": 45,
   "metadata": {},
   "outputs": [
    {
     "name": "stdout",
     "output_type": "stream",
     "text": [
      "14 14\n",
      "None\n"
     ]
    }
   ],
   "source": [
    "print (mini_max ( [ 5,4,3,2,1] ))"
   ]
  },
  {
   "cell_type": "markdown",
   "metadata": {},
   "source": [
    "## Birthday candle: Niece turning 4 years old and have 4 candles 4,4,1,3 and she is able to blow out only height candles."
   ]
  },
  {
   "cell_type": "code",
   "execution_count": 53,
   "metadata": {},
   "outputs": [
    {
     "data": {
      "text/plain": [
       "2"
      ]
     },
     "execution_count": 53,
     "metadata": {},
     "output_type": "execute_result"
    }
   ],
   "source": [
    "arr = [ 4,4,1,2]\n",
    "\n",
    "arr.count(max(arr))"
   ]
  },
  {
   "cell_type": "code",
   "execution_count": 58,
   "metadata": {},
   "outputs": [
    {
     "data": {
      "text/plain": [
       "[(4, 2), (1, 1), (2, 1)]"
      ]
     },
     "execution_count": 58,
     "metadata": {},
     "output_type": "execute_result"
    }
   ],
   "source": [
    "# optional\n",
    "from collections import Counter\n",
    "\n",
    "c = Counter(arr)\n",
    "c.most_common()"
   ]
  },
  {
   "cell_type": "markdown",
   "metadata": {},
   "source": [
    "## Given time convert into Military format<br>\n",
    "\n",
    "input: hh:mm:ss AM or hh:mm:ssPM"
   ]
  },
  {
   "cell_type": "code",
   "execution_count": 62,
   "metadata": {},
   "outputs": [
    {
     "name": "stdout",
     "output_type": "stream",
     "text": [
      "07\n",
      "19:05:45\n",
      "12\n",
      "00:01:01\n"
     ]
    }
   ],
   "source": [
    "\n",
    "def time_convert(s):\n",
    "    meridian = s[-2:]\n",
    "    \n",
    "    print( s[:2])\n",
    "    \n",
    "    if meridian == 'PM' and s[:2] != '12':\n",
    "        s = str( 12 + int( s[:2])) + s[2:]\n",
    "    if meridian == 'AM' and s[:2] == '12':\n",
    "        s = '00' + s[2:]\n",
    "        \n",
    "    return s[:-2]\n",
    "\n",
    "\n",
    "print ( time_convert( '07:05:45PM') )\n",
    "\n",
    "print( time_convert( '12:01:01AM'))"
   ]
  },
  {
   "cell_type": "code",
   "execution_count": 66,
   "metadata": {},
   "outputs": [],
   "source": [
    "# use module: from datetime import datetime\n",
    "\n"
   ]
  },
  {
   "cell_type": "markdown",
   "metadata": {},
   "source": [
    "\n",
    "\n",
    "arr = [ 10, 15, 3, 7]<br>\n",
    "17 - 10 = 7<br>\n",
    "17 - 15 = 2 <br>\n",
    "17 - 3 = 14 <br>\n",
    "\n",
    "7 already in the set. so STOP here;\n"
   ]
  },
  {
   "cell_type": "code",
   "execution_count": 70,
   "metadata": {},
   "outputs": [],
   "source": [
    "\n",
    "def check_sums(array, k):\n",
    "    potential_solutions = set()\n",
    "    for num in array:\n",
    "        if num in potential_solutions:\n",
    "            #stops here\n",
    "            return True\n",
    "        potential_solutions.add(k - num)\n",
    "    \n",
    "    return False\n",
    "\n"
   ]
  },
  {
   "cell_type": "code",
   "execution_count": null,
   "metadata": {},
   "outputs": [],
   "source": []
  },
  {
   "cell_type": "markdown",
   "metadata": {},
   "source": [
    "## Big Sorting: strings numbers"
   ]
  },
  {
   "cell_type": "code",
   "execution_count": 1,
   "metadata": {},
   "outputs": [],
   "source": [
    "\n",
    "def big_sorting( unsorted ):\n",
    "    # unsorted.sort() # not works\n",
    "    unsorted = list( map( int, unsorted ) )\n",
    "    unsorted.sort()\n",
    "    unsorted = list( map( int, unsorted ) )\n",
    "    return unsorted\n"
   ]
  },
  {
   "cell_type": "markdown",
   "metadata": {},
   "source": [
    "## Insorted part 1,"
   ]
  },
  {
   "cell_type": "code",
   "execution_count": 7,
   "metadata": {},
   "outputs": [
    {
     "name": "stdout",
     "output_type": "stream",
     "text": [
      "--------\n",
      "[1, 4, 3, 5, 6, 2]\n",
      "0\n",
      "--------\n",
      "[1, 3, 4, 5, 6, 2]\n",
      "--------\n",
      "[1, 3, 4, 5, 6, 2]\n",
      "--------\n",
      "[1, 3, 4, 5, 6, 2]\n",
      "3\n",
      "2\n",
      "1\n",
      "0\n",
      "--------\n",
      "[1, 2, 3, 4, 5, 6]\n",
      "[1, 2, 3, 4, 5, 6]\n"
     ]
    }
   ],
   "source": [
    "\n",
    "array = [ 1,4,3,5,6,2 ]\n",
    "\n",
    "for step in range(1, len(array)):\n",
    "    key = array[step]\n",
    "    j = step - 1\n",
    "    \n",
    "    while j >= 0 and key < array[j]:\n",
    "        array[j+1] = array[j]\n",
    "        j = j - 1\n",
    "        print(j)\n",
    "        \n",
    "    # place key at after the element just smaller than it\n",
    "    array[j+1] = key\n",
    "    \n",
    "    print(\"--------\")\n",
    "    print(array)\n",
    "        \n",
    "print( array )\n",
    "\n"
   ]
  },
  {
   "cell_type": "markdown",
   "metadata": {},
   "source": [
    "## Count the # of shifts"
   ]
  },
  {
   "cell_type": "code",
   "execution_count": 11,
   "metadata": {},
   "outputs": [
    {
     "name": "stdout",
     "output_type": "stream",
     "text": [
      "[1, 2, 3, 4, 5, 6]\n",
      "5\n"
     ]
    }
   ],
   "source": [
    "array = [ 1,4,3,5,6,2 ]\n",
    "\n",
    "shifts = 0\n",
    "\n",
    "for step in range(1, len(array)):\n",
    "    key = array[step]\n",
    "    j = step - 1\n",
    "    \n",
    "    while j >= 0 and key < array[j]:\n",
    "        array[j+1] = array[j]\n",
    "        shifts = shifts + 1\n",
    "        j = j - 1\n",
    "        \n",
    "    # place key at after the element just smaller than it\n",
    "    array[j+1] = key\n",
    "\n",
    "        \n",
    "print( array )\n",
    "print( shifts )"
   ]
  },
  {
   "cell_type": "markdown",
   "metadata": {},
   "source": [
    "## Quicksort"
   ]
  },
  {
   "cell_type": "code",
   "execution_count": 13,
   "metadata": {},
   "outputs": [],
   "source": [
    "\n",
    "import random\n",
    "\n",
    "def qsort(xs, fst, lst):\n",
    "    '''\n",
    "    Sort the range xs[fst, lst] in-place with vanilla QuickSort\n",
    "\n",
    "    :param xs:  the list of numbers to sort\n",
    "    :param fst: the first index from xs to begin sorting from,\n",
    "                must be in the range [0, len(xs))\n",
    "    :param lst: the last index from xs to stop sorting at\n",
    "                must be in the range [fst, len(xs))\n",
    "    :return:    nothing, the side effect is that xs[fst, lst] is sorted\n",
    "    '''\n",
    "    if fst >= lst:\n",
    "        return\n",
    "\n",
    "    i, j = fst, lst\n",
    "    pivot = xs[random.randint(fst, lst)]\n",
    "\n",
    "    while i <= j:\n",
    "        while xs[i] < pivot:\n",
    "            i += 1\n",
    "        while xs[j] > pivot:\n",
    "            j -= 1\n",
    "\n",
    "        if i <= j:\n",
    "            xs[i], xs[j] = xs[j], xs[i]\n",
    "            i, j = i + 1, j - 1\n",
    "            \n",
    "    qsort(xs, fst, j)\n",
    "    qsort(xs, i, lst )\n"
   ]
  },
  {
   "cell_type": "code",
   "execution_count": 14,
   "metadata": {},
   "outputs": [],
   "source": [
    "\n",
    "def qsort(xs):\n",
    "    if not xs: return xs # empty sequence case\n",
    "    pivot = xs[random.choice(range(0, len(xs)))]\n",
    "\n",
    "    head = qsort([x for x in xs if x < pivot])\n",
    "    tail = qsort([x for x in xs if x > pivot])\n",
    "    return head + [x for x in xs if x == pivot] + tail"
   ]
  },
  {
   "cell_type": "code",
   "execution_count": 15,
   "metadata": {},
   "outputs": [
    {
     "data": {
      "text/plain": [
       "[1, 2, 3]"
      ]
     },
     "execution_count": 15,
     "metadata": {},
     "output_type": "execute_result"
    }
   ],
   "source": [
    "qsort([1,3,2])"
   ]
  },
  {
   "cell_type": "markdown",
   "metadata": {},
   "source": [
    "## Counting Sort"
   ]
  },
  {
   "cell_type": "code",
   "execution_count": 20,
   "metadata": {},
   "outputs": [
    {
     "data": {
      "text/plain": [
       "[0, 2, 0, 2, 0, 0, 0, 0, 0, 0]"
      ]
     },
     "execution_count": 20,
     "metadata": {},
     "output_type": "execute_result"
    }
   ],
   "source": [
    "\n",
    "array = [ 3,3,1,1 ]\n",
    "\n",
    "size = len(array)\n",
    "output = [0] * size\n",
    "\n",
    "# Initialize count array\n",
    "count = [0] * 10\n",
    "\n",
    "# Store the count of each elements in count array\n",
    "for i in range(0, size):\n",
    "    count[array[i]] = count[array[i]] +  1\n",
    "    \n",
    "count"
   ]
  },
  {
   "cell_type": "code",
   "execution_count": 21,
   "metadata": {},
   "outputs": [
    {
     "data": {
      "text/plain": [
       "[0, 2, 2, 4, 4, 4, 4, 4, 4, 4]"
      ]
     },
     "execution_count": 21,
     "metadata": {},
     "output_type": "execute_result"
    }
   ],
   "source": [
    "# Store the cummulative count: Add from the previous and \n",
    "for i in range(1, 10):\n",
    "    count[i] += count[i - 1]\n",
    "    \n",
    "count"
   ]
  },
  {
   "cell_type": "code",
   "execution_count": 22,
   "metadata": {},
   "outputs": [],
   "source": [
    "# Find the index of each element of the original array in count array\n",
    "# place the elements in output array\n",
    "\n",
    "i = size - 1\n",
    "while i >= 0:\n",
    "    output[count[array[i]] - 1] = array[i]\n",
    "    count[array[i]] = count[array[i]] - 1\n",
    "    i = i - 1\n",
    "    "
   ]
  },
  {
   "cell_type": "code",
   "execution_count": 26,
   "metadata": {},
   "outputs": [
    {
     "data": {
      "text/plain": [
       "[1, 1, 3, 3]"
      ]
     },
     "execution_count": 26,
     "metadata": {},
     "output_type": "execute_result"
    }
   ],
   "source": [
    "output"
   ]
  },
  {
   "cell_type": "code",
   "execution_count": 24,
   "metadata": {},
   "outputs": [],
   "source": [
    "# Copy the sorted elements into original array\n",
    "for i in range(0, size):\n",
    "    array[i] = output[i]"
   ]
  },
  {
   "cell_type": "code",
   "execution_count": 25,
   "metadata": {},
   "outputs": [
    {
     "data": {
      "text/plain": [
       "[1, 1, 3, 3]"
      ]
     },
     "execution_count": 25,
     "metadata": {},
     "output_type": "execute_result"
    }
   ],
   "source": [
    "output"
   ]
  },
  {
   "cell_type": "markdown",
   "metadata": {},
   "source": [
    "## Closest numbers from a list of unsorted integers<br>\n",
    "Input : arr[] = {10, 50, 12, 100}<br>\n",
    "Output : (10, 12) <br>\n",
    "The closest elements are 10 and 12"
   ]
  },
  {
   "cell_type": "code",
   "execution_count": 30,
   "metadata": {},
   "outputs": [
    {
     "name": "stdout",
     "output_type": "stream",
     "text": [
      "[2, 3, 9, 15]\n",
      "1\n",
      "6\n",
      "6\n",
      "[2, 3]\n"
     ]
    }
   ],
   "source": [
    "arr = [ 2,9,3,15 ]\n",
    "\n",
    "pairs = []\n",
    "mindiff = 99999999999999999\n",
    "arr.sort()\n",
    "\n",
    "print( arr )\n",
    "\n",
    "# main logic\n",
    "for i in range(1, len(arr) ):\n",
    "    d = abs( arr[i-1] - arr[i] )\n",
    "    print(d)\n",
    "    \n",
    "    # new min difference\n",
    "    if d < mindiff:\n",
    "        mindiff = 2\n",
    "        pairs = [ arr[i-1], arr[i] ]\n",
    "        \n",
    "    # already existing min diff\n",
    "    elif d == mindiff:\n",
    "        pairs.extend( arr[i-1], arr[i] )\n",
    "        \n",
    "        \n",
    "print( pairs )\n",
    "    "
   ]
  },
  {
   "cell_type": "markdown",
   "metadata": {},
   "source": [
    "## find the median in an array"
   ]
  },
  {
   "cell_type": "code",
   "execution_count": 34,
   "metadata": {},
   "outputs": [
    {
     "data": {
      "text/plain": [
       "4"
      ]
     },
     "execution_count": 34,
     "metadata": {},
     "output_type": "execute_result"
    }
   ],
   "source": [
    "arr =  [ 1,2,3,4,5, 6 ]\n",
    "\n",
    "\n",
    "sorted( arr )[ len(arr)//2 ]"
   ]
  },
  {
   "cell_type": "markdown",
   "metadata": {},
   "source": [
    "## Heap queue \n",
    "Heaps are commonly used to implement priority queues. <br>\n",
    "\n",
    "Its first child is at 2*k + 1.<br>\n",
    "Its second child is at 2*k + 2.<br>\n",
    "Its parent is at (k - 1) // 2. <br>"
   ]
  },
  {
   "cell_type": "markdown",
   "metadata": {},
   "source": [
    "## find the Running Median"
   ]
  },
  {
   "cell_type": "code",
   "execution_count": 36,
   "metadata": {},
   "outputs": [],
   "source": [
    "import os\n",
    "import sys\n",
    "from heapq import heappush, heappop\n"
   ]
  },
  {
   "cell_type": "code",
   "execution_count": 39,
   "metadata": {},
   "outputs": [
    {
     "name": "stdout",
     "output_type": "stream",
     "text": [
      "[1.0, 1.0, 1.0, 1.0, 1.0]\n"
     ]
    }
   ],
   "source": [
    "minheap = []\n",
    "maxheap = []\n",
    "result = []\n",
    "\n",
    "def addnum( num, minheap, maxheap ):\n",
    "    if not maxheap or num < -maxheap[0]:\n",
    "        heappush( maxheap, -num )\n",
    "        \n",
    "\n",
    "def balance( minheap, maxheap ):\n",
    "    if len(minheap) - len(maxheap) >= 2:\n",
    "        heappush( maxheap, -num )\n",
    "    else:\n",
    "        heappush( minheap, num )\n",
    "        \n",
    "def getmedian( minheap, maxheap ):\n",
    "    if len(minheap) == len(maxheap):\n",
    "        return ( minheap[0] - maxheap[0]) / 2\n",
    "    elif len(minheap) > len(maxheap):\n",
    "        return float(minheap[0])\n",
    "    else:\n",
    "        print( float( -maxheap[0]))\n",
    "   \n",
    "\n",
    "a= [ 1,2,3,4,5]\n",
    "\n",
    "for num in a:\n",
    "    addnum( num, minheap, maxheap )\n",
    "    \n",
    "    balance( minheap, maxheap )\n",
    "    \n",
    "    result.append( getmedian( minheap, maxheap ) )\n",
    "    \n",
    "print( result )"
   ]
  },
  {
   "cell_type": "markdown",
   "metadata": {},
   "source": [
    "## Jesse and Cookies<br>\n",
    "\n",
    "sweetness = ( 1 X Least Sweet Cookie + 2 X 2nd Least sweet cookie )<br>\n",
    "\n",
    "repeates this procedures untill all the cookies in his collection have a sweetness >= K."
   ]
  },
  {
   "cell_type": "code",
   "execution_count": 44,
   "metadata": {},
   "outputs": [],
   "source": [
    "\n",
    "import os\n",
    "\n",
    "import sys\n",
    "\n",
    "from heapq import heapify, heappush, heappop"
   ]
  },
  {
   "cell_type": "code",
   "execution_count": 45,
   "metadata": {},
   "outputs": [],
   "source": [
    "\n",
    "def cookies(K, A):\n",
    "    heapify(A)\n",
    "    result = 0\n",
    "    \n",
    "    while True:\n",
    "        x = heappop(A)\n",
    "        \n",
    "        #base condition\n",
    "        if x >= k:\n",
    "            return result\n",
    "        if A:\n",
    "            y = heappop(A)\n",
    "            s = x + 2 * y\n",
    "            heappush(A, s)\n",
    "            result = result + 1\n",
    "        else:\n",
    "            result -1 "
   ]
  },
  {
   "cell_type": "code",
   "execution_count": 47,
   "metadata": {},
   "outputs": [
    {
     "data": {
      "text/plain": [
       "2"
      ]
     },
     "execution_count": 47,
     "metadata": {},
     "output_type": "execute_result"
    }
   ],
   "source": [
    "cookies(6,[1,2,3,9,10, 12] )"
   ]
  },
  {
   "cell_type": "code",
   "execution_count": null,
   "metadata": {},
   "outputs": [],
   "source": []
  }
 ],
 "metadata": {
  "kernelspec": {
   "display_name": "Python 3",
   "language": "python",
   "name": "python3"
  },
  "language_info": {
   "codemirror_mode": {
    "name": "ipython",
    "version": 3
   },
   "file_extension": ".py",
   "mimetype": "text/x-python",
   "name": "python",
   "nbconvert_exporter": "python",
   "pygments_lexer": "ipython3",
   "version": "3.8.5"
  }
 },
 "nbformat": 4,
 "nbformat_minor": 4
}
