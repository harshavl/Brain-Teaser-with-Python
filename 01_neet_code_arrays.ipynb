{
 "cells": [
  {
   "cell_type": "markdown",
   "id": "9a9e489e",
   "metadata": {},
   "source": [
    "## Neet Code Examples"
   ]
  },
  {
   "cell_type": "code",
   "execution_count": 1,
   "id": "4bda6ca0",
   "metadata": {},
   "outputs": [],
   "source": [
    "# Insert n into arr at the next open position.\n",
    "# Length is the number of 'real' values in arr, and capacity\n",
    "# is the size (aka memory allocated for the fixed size array).\n",
    "def insertEnd(arr, n, length, capacity):\n",
    "    if length < capacity:\n",
    "        arr[length] = n"
   ]
  },
  {
   "cell_type": "code",
   "execution_count": 2,
   "id": "aac6d01d",
   "metadata": {},
   "outputs": [],
   "source": [
    "# Remove from the last position in the array if the array\n",
    "# is not empty (i.e. length is non-zero).\n",
    "def removeEnd(arr, length):\n",
    "    if length > 0:\n",
    "        # Overwrite last element with some default value.\n",
    "        # We would also the length to decreased by 1.\n",
    "        arr[length - 1] = 0"
   ]
  },
  {
   "cell_type": "code",
   "execution_count": 3,
   "id": "32f78f85",
   "metadata": {},
   "outputs": [],
   "source": [
    "# Insert n into index i after shifting elements to the right.\n",
    "# Assuming i is a valid index and arr is not full.\n",
    "def insertMiddle(arr, i, n, length):\n",
    "    # Shift starting from the end to i.\n",
    "    for index in range(length - 1, i - 1, -1):\n",
    "        arr[index + 1] = arr[index]\n",
    "    \n",
    "    # Insert at i\n",
    "    arr[i] = n"
   ]
  },
  {
   "cell_type": "code",
   "execution_count": 4,
   "id": "b4a5558a",
   "metadata": {},
   "outputs": [],
   "source": [
    "# Remove value at index i before shifting elements to the left.\n",
    "# Assuming i is a valid index.\n",
    "def removeMiddle(arr, i, length):\n",
    "    # Shift starting from i + 1 to end.\n",
    "    for index in range(i + 1, length):\n",
    "        arr[index - 1] = arr[index]\n",
    "    # No need to 'remove' arr[i], since we already shifted"
   ]
  },
  {
   "cell_type": "code",
   "execution_count": 5,
   "id": "1dee8f3b",
   "metadata": {},
   "outputs": [],
   "source": [
    "def printArr(arr, capacity):\n",
    "    for i in range(capacity):\n",
    "        print(arr[i])"
   ]
  },
  {
   "cell_type": "markdown",
   "id": "4b41f75c",
   "metadata": {},
   "source": [
    "https://leetcode.com/problems/remove-duplicates-from-sorted-array/\n",
    "\n",
    "https://leetcode.com/problems/remove-element/\n",
    "\n",
    "https://leetcode.com/problems/shuffle-the-array/"
   ]
  },
  {
   "cell_type": "markdown",
   "id": "9bbef8ba",
   "metadata": {},
   "source": [
    "## Python arrays are dynamic by default, but this is an example of resizing."
   ]
  },
  {
   "cell_type": "code",
   "execution_count": 6,
   "id": "ac11a54b",
   "metadata": {},
   "outputs": [],
   "source": [
    "class Array:\n",
    "    def __init__(self):\n",
    "        self.capacity = 2\n",
    "        self.length = 0\n",
    "        self.arr = [0] * 2 # Array of capacity = 2\n",
    "\n",
    "    # Insert n in the last position of the array\n",
    "    def pushback(self, n):\n",
    "        if self.length == self.capacity:\n",
    "            self.resize()\n",
    "            \n",
    "        # insert at next empty position\n",
    "        self.arr[self.length] = n\n",
    "        self.length += 1\n",
    "\n",
    "    def resize(self):\n",
    "        # Create new array of double capacity\n",
    "        self.capacity = 2 * self.capacity\n",
    "        newArr = [0] * self.capacity \n",
    "        \n",
    "        # Copy elements to newArr\n",
    "        for i in range(self.length):\n",
    "            newArr[i] = self.arr[i]\n",
    "        self.arr = newArr\n",
    "        \n",
    "    # Remove the last element in the array\n",
    "    def popback(self):\n",
    "        if self.length > 0:\n",
    "            self.length -= 1\n",
    "    \n",
    "    # Get value at i-th index\n",
    "    def get(self, i):\n",
    "        if i < self.length:\n",
    "            return self.arr[i]\n",
    "        # Here we would throw an out of bounds exception\n",
    "\n",
    "    # Insert n at i-th index\n",
    "    def insert(self, i, n):\n",
    "        if i < self.length:\n",
    "            self.arr[i] = n\n",
    "            return\n",
    "        # Here we would throw an out of bounds exception       \n",
    "\n",
    "    def print(self):\n",
    "        for i in range(self.length):\n",
    "            print(self.arr[i])\n",
    "        print()"
   ]
  },
  {
   "cell_type": "code",
   "execution_count": 8,
   "id": "a38bf380",
   "metadata": {},
   "outputs": [],
   "source": [
    "# concatenation-of-array\n",
    "\n",
    "# nums.extend( nums )"
   ]
  },
  {
   "cell_type": "markdown",
   "id": "defcafce",
   "metadata": {},
   "source": [
    "## Stack\n"
   ]
  },
  {
   "cell_type": "code",
   "execution_count": 3,
   "id": "dc4c7369",
   "metadata": {},
   "outputs": [],
   "source": [
    "# Implementing a stack is trivial using a dynamic array\n",
    "# (which we implemented earlier).\n",
    "class Stack:\n",
    "    def __init__(self):\n",
    "        self.stack = []\n",
    "\n",
    "    def push(self, n):\n",
    "        self.stack.append(n)\n",
    "\n",
    "    def pop(self):\n",
    "        return self.stack.pop()"
   ]
  },
  {
   "cell_type": "markdown",
   "id": "f7407d58",
   "metadata": {},
   "source": [
    "\n",
    "https://leetcode.com/problems/baseball-game/\n",
    "\n",
    "https://leetcode.com/problems/valid-parentheses/\n",
    "\n",
    "https://leetcode.com/problems/min-stack/"
   ]
  },
  {
   "cell_type": "markdown",
   "id": "5c8a04c5",
   "metadata": {},
   "source": [
    "**Kadane’s Algorithm** is an iterative dynamic programming algorithm. It calculates the maximum sum subarray ending at a particular position by using the maximum sum subarray ending at the previous position. Follow the below steps to solve the problem.\n",
    "\n",
    "Define two-variable currSum which stores maximum sum ending here and maxSum which stores maximum sum so far.<br>\n",
    "Initialize currSum with 0 and maxSum with INT_MIN.<br>\n",
    "Now, iterate over the array and add the value of the current element to currSum and check\n",
    "If currSum is greater than maxSum, update maxSum equals to currSum.<br>\n",
    "If currSum is less than zero, make currSum equal to zero.<br>\n",
    "Finally, print the value of maxSum."
   ]
  },
  {
   "cell_type": "markdown",
   "id": "12de64ff",
   "metadata": {},
   "source": [
    "## Find a Non empty subarry with the largest Sum."
   ]
  },
  {
   "cell_type": "code",
   "execution_count": 14,
   "id": "df5f2b5f",
   "metadata": {},
   "outputs": [
    {
     "name": "stdout",
     "output_type": "stream",
     "text": [
      "7\n"
     ]
    }
   ],
   "source": [
    "# Brute Force \n",
    "\n",
    "A = [ 4, -1, 2, -7, 3, 4 ]\n",
    "\n",
    "maxSum = A[0]\n",
    "\n",
    "for i in range(len(A)):\n",
    "    curSum = 0\n",
    "    for j in range( i, len(A) ):\n",
    "       \n",
    "        curSum = curSum + A[j]\n",
    "        maxSum = max( maxSum, curSum )\n",
    "        \n",
    "        \n",
    "print(maxSum)"
   ]
  },
  {
   "cell_type": "code",
   "execution_count": 19,
   "id": "1c7987ed",
   "metadata": {},
   "outputs": [],
   "source": [
    "def maximumSubarraySum(arr):\n",
    "        n = len(arr)\n",
    "        maxSum = -1e8\n",
    "        currSum = 0\n",
    "\n",
    "        for i in range(0, n):\n",
    "            currSum = currSum + arr[i]\n",
    "            if(currSum > maxSum):\n",
    "                maxSum = currSum\n",
    "            if(currSum < 0):\n",
    "                currSum = 0\n",
    "            print(i)\n",
    "            print(\"---------------\")\n",
    "        return maxSum"
   ]
  },
  {
   "cell_type": "code",
   "execution_count": 20,
   "id": "5440fb5f",
   "metadata": {},
   "outputs": [
    {
     "name": "stdout",
     "output_type": "stream",
     "text": [
      "0\n",
      "---------------\n",
      "1\n",
      "---------------\n",
      "2\n",
      "---------------\n",
      "3\n",
      "---------------\n",
      "4\n",
      "---------------\n",
      "5\n",
      "---------------\n",
      "6\n",
      "---------------\n"
     ]
    },
    {
     "data": {
      "text/plain": [
       "16"
      ]
     },
     "execution_count": 20,
     "metadata": {},
     "output_type": "execute_result"
    }
   ],
   "source": [
    "maximumSubarraySum([1, 3, 8, -2, 6, -8, 5])"
   ]
  },
  {
   "cell_type": "markdown",
   "id": "46b70357",
   "metadata": {},
   "source": [
    "https://leetcode.com/problems/maximum-subarray/ <br>\n",
    "https://leetcode.com/problems/maximum-sum-circular-subarray/ <br>\n",
    "https://leetcode.com/problems/longest-turbulent-subarray/\n"
   ]
  },
  {
   "cell_type": "markdown",
   "id": "74e714f8",
   "metadata": {},
   "source": [
    "## Sliding Window Fixed"
   ]
  },
  {
   "cell_type": "markdown",
   "id": "24080c8b",
   "metadata": {},
   "source": [
    "#### Given an array, return true if there are two elements within a window of Size K that are equal"
   ]
  },
  {
   "cell_type": "code",
   "execution_count": 30,
   "id": "3a94f341",
   "metadata": {},
   "outputs": [],
   "source": [
    "def closeDuplicates( A, k ):\n",
    "    \n",
    "    window = set() # Cur window of size <= k\n",
    "    winStart = 0\n",
    "    \n",
    "    for winEnd in range(len(A)):\n",
    "        \n",
    "        if winEnd - winStart + 1 > k:\n",
    "            window.remove( A[winStart] )\n",
    "            winStart = winStart + 1\n",
    "            \n",
    "        if A[winEnd] in window:\n",
    "            return True\n",
    "        \n",
    "        window.add( A[winEnd] )\n",
    "        \n",
    "    return False"
   ]
  },
  {
   "cell_type": "code",
   "execution_count": 31,
   "id": "35d1e3f8",
   "metadata": {},
   "outputs": [
    {
     "data": {
      "text/plain": [
       "True"
      ]
     },
     "execution_count": 31,
     "metadata": {},
     "output_type": "execute_result"
    }
   ],
   "source": [
    "closeDuplicates([1,2,3,2,3,3], 2 )"
   ]
  },
  {
   "cell_type": "markdown",
   "id": "73c2a31b",
   "metadata": {},
   "source": [
    "https://leetcode.com/problems/contains-duplicate-ii/ <br>\n",
    "\n",
    "https://leetcode.com/problems/number-of-sub-arrays-of-size-k-and-average-greater-than-or-equal-to-threshold/\n"
   ]
  },
  {
   "cell_type": "markdown",
   "id": "24dedca4",
   "metadata": {},
   "source": [
    "## Sliding window Variables"
   ]
  },
  {
   "cell_type": "markdown",
   "id": "f485eb9e",
   "metadata": {},
   "source": [
    "#### find the length of the longest subarray, with the same value in each position."
   ]
  },
  {
   "cell_type": "code",
   "execution_count": 34,
   "id": "df9d6b80",
   "metadata": {},
   "outputs": [],
   "source": [
    "\n",
    "\n",
    "def longestSubarray( A ):\n",
    "    length = 0\n",
    "    L = 0\n",
    "    \n",
    "    for R in range(len( A )):\n",
    "        if A[L] != A[R]:\n",
    "            L = R # Jump win start to win End due to duplicate elements\n",
    "            \n",
    "        length = max( length, R - L + 1 )\n",
    "        \n",
    "    return length\n"
   ]
  },
  {
   "cell_type": "code",
   "execution_count": 35,
   "id": "ee27427e",
   "metadata": {},
   "outputs": [
    {
     "data": {
      "text/plain": [
       "3"
      ]
     },
     "execution_count": 35,
     "metadata": {},
     "output_type": "execute_result"
    }
   ],
   "source": [
    "longestSubarray([4,2,2,3,3,3])"
   ]
  },
  {
   "cell_type": "markdown",
   "id": "8f968b82",
   "metadata": {},
   "source": [
    "#### find the minimum length subarray, where the sum is greater than or equal to the target. Assume all values are positives."
   ]
  },
  {
   "cell_type": "code",
   "execution_count": 36,
   "id": "6d95b4e2",
   "metadata": {},
   "outputs": [],
   "source": [
    "def shortestSubarray( A , target ):\n",
    "    total, L = 0,0\n",
    "    length = float(\"inf\")\n",
    "    \n",
    "    for R in range(len(A)):\n",
    "        \n",
    "        total = total + A[R]\n",
    "        \n",
    "        while total >= target:\n",
    "            length = min( R - L + 1, length )\n",
    "            total = total - A[L]\n",
    "            L = L + 1\n",
    "            \n",
    "    return 0 if length == float(\"inf\") else length\n"
   ]
  },
  {
   "cell_type": "code",
   "execution_count": 37,
   "id": "6f86515d",
   "metadata": {},
   "outputs": [
    {
     "name": "stdout",
     "output_type": "stream",
     "text": [
      "2\n"
     ]
    }
   ],
   "source": [
    "print( shortestSubarray([2,3,1,2,4,3], 6 ))"
   ]
  },
  {
   "cell_type": "markdown",
   "id": "f6c32f85",
   "metadata": {},
   "source": [
    "https://leetcode.com/problems/minimum-size-subarray-sum <br>\n",
    "https://leetcode.com/problems/longest-substring-without-repeating-characters/ <br>\n",
    "https://leetcode.com/problems/longest-repeating-character-replacement/\n"
   ]
  },
  {
   "cell_type": "markdown",
   "id": "75af757d",
   "metadata": {},
   "source": [
    "## Two Pointers"
   ]
  },
  {
   "cell_type": "markdown",
   "id": "1d80925b",
   "metadata": {},
   "source": [
    "#### Check if an array is a palidrome"
   ]
  },
  {
   "cell_type": "code",
   "execution_count": 42,
   "id": "ce7cfa23",
   "metadata": {},
   "outputs": [],
   "source": [
    "\n",
    "def isPalidrome( A ):\n",
    "    L = 0\n",
    "    R = len(A) - 1\n",
    "    \n",
    "    while L < R:\n",
    "        if A[L] != A[R]:\n",
    "            return False\n",
    "        \n",
    "        L = L + 1\n",
    "        R = R - 1\n",
    "            \n",
    "    return True"
   ]
  },
  {
   "cell_type": "code",
   "execution_count": 43,
   "id": "3d0a5806",
   "metadata": {},
   "outputs": [
    {
     "data": {
      "text/plain": [
       "True"
      ]
     },
     "execution_count": 43,
     "metadata": {},
     "output_type": "execute_result"
    }
   ],
   "source": [
    "isPalidrome(['a','b','a'])"
   ]
  },
  {
   "cell_type": "code",
   "execution_count": 44,
   "id": "2bed8447",
   "metadata": {},
   "outputs": [],
   "source": [
    "\n",
    "def targetSum( A, target ):\n",
    "    L, R = 0, len(A) - 1\n",
    "    \n",
    "    while L < R:\n",
    "        if A[L] + A[R] > target:\n",
    "            R = R - 1\n",
    "        elif A[L] + A[R] < target:\n",
    "            L = L + 1\n",
    "        else:\n",
    "            return [L, R ]"
   ]
  },
  {
   "cell_type": "code",
   "execution_count": 45,
   "id": "e4189a64",
   "metadata": {},
   "outputs": [
    {
     "name": "stdout",
     "output_type": "stream",
     "text": [
      "[1, 3]\n"
     ]
    }
   ],
   "source": [
    "print( targetSum( [-1, 2, 3,4,8,9 ], 6 ))"
   ]
  },
  {
   "cell_type": "markdown",
   "id": "b869f69b",
   "metadata": {},
   "source": [
    "https://leetcode.com/problems/valid-palindrome/ <br>\n",
    "https://leetcode.com/problems/two-sum-ii-input-array-is-sorted/<br>\n",
    "https://leetcode.com/problems/remove-duplicates-from-sorted-array/<br>\n",
    "https://leetcode.com/problems/remove-duplicates-from-sorted-array-ii/<br>\n",
    "https://leetcode.com/problems/container-with-most-water/<br>\n",
    "https://leetcode.com/problems/trapping-rain-water/"
   ]
  },
  {
   "cell_type": "markdown",
   "id": "8c6a2060",
   "metadata": {},
   "source": [
    "## Prefix Sums and Postfix Sums"
   ]
  },
  {
   "cell_type": "markdown",
   "id": "f26dd90c",
   "metadata": {},
   "source": [
    "https://leetcode.com/problems/range-sum-query-immutable/ <br>\n",
    "https://leetcode.com/problems/range-sum-query-2d-immutable/<br>\n",
    "https://leetcode.com/problems/find-pivot-index/<br>\n",
    "https://leetcode.com/problems/product-of-array-except-self/<br>\n",
    "https://leetcode.com/problems/subarray-sum-equals-k/"
   ]
  },
  {
   "cell_type": "markdown",
   "id": "76b58c9f",
   "metadata": {},
   "source": [
    "## Practice Questions ( Sliding Window )"
   ]
  },
  {
   "cell_type": "markdown",
   "id": "c25d9acd",
   "metadata": {},
   "source": [
    "#### 1. Given an array, find the average of all contiguous subarrays of size ‘K’ in it.<br>\n",
    "\n",
    "\n",
    "Array: [1, 3, 2, 6, -1, 4, 1, 8, 2], K=5 <br>\n",
    "\n",
    "Output: [2.2, 2.8, 2.4, 3.6, 2.8]\n"
   ]
  },
  {
   "cell_type": "markdown",
   "id": "e47c64cb",
   "metadata": {},
   "source": [
    "#### 2. Maximum Sum Subarray of Size K<br>\n",
    "\n",
    "Given an array of positive numbers and a positive number ‘k’, find the maximum sum of any contiguous subarray of size ‘k’.<br>\n",
    "\n",
    "Input: [2, 1, 5, 1, 3, 2], k=3  <br>\n",
    "Output: 9<br>\n",
    "Explanation: Subarray with maximum sum is [5, 1, 3].<br>\n",
    "\n",
    "<br>\n",
    "\n",
    "Input: [2, 3, 4, 1, 5], k=2 <br>\n",
    "Output: 7<br>\n",
    "Explanation: Subarray with maximum sum is [3, 4].<br>"
   ]
  },
  {
   "cell_type": "markdown",
   "id": "8e1478e3",
   "metadata": {},
   "source": [
    "#### 3. Smallest Subarray with a given sum (easy)<br>\n",
    "\n",
    "Problem Statement <br>\n",
    "Given an array of positive numbers and a positive number ‘S’, find the length of the smallest contiguous subarray whose sum is greater than or equal to ‘S’. Return 0, if no such subarray exists."
   ]
  },
  {
   "cell_type": "markdown",
   "id": "2c0990ce",
   "metadata": {},
   "source": [
    "Input: [2, 1, 5, 2, 3, 2], S=7  <br>\n",
    "Output: 2 <br>\n",
    "Explanation: The smallest subarray with a sum great than or equal to '7' is [5, 2]."
   ]
  },
  {
   "cell_type": "markdown",
   "id": "4bc8e0f5",
   "metadata": {},
   "source": [
    "#### 4. Longest Substring with K Distinct Characters (medium)<br>\n",
    "\n",
    "Given a string, find the length of the longest substring in it with no more than K distinct characters. <br>\n",
    "\n",
    "Input: String=\"araaci\", K=2<br>\n",
    "Output: 4<br>\n",
    "Explanation: The longest substring with no more than '2' distinct characters is \"araa\"."
   ]
  },
  {
   "cell_type": "markdown",
   "id": "63f26859",
   "metadata": {},
   "source": [
    "Input: String=\"cbbebi\", K=3 <br>\n",
    "Output: 5<br>\n",
    "Explanation: The longest substrings with no more than '3' distinct characters are \"cbbeb\" & \"bbebi\"."
   ]
  },
  {
   "cell_type": "markdown",
   "id": "fb5fe303",
   "metadata": {},
   "source": [
    "#### 5. Fruits into Baskets (medium)<br>\n",
    "Given an array of characters where each character represents a fruit tree, you are given two baskets and your goal is to put maximum number of fruits in each basket. The only restriction is that each basket can have only one type of fruit. <br>\n",
    "\n",
    "\n",
    "Input: Fruit=['A', 'B', 'C', 'A', 'C'] <br>\n",
    "Output: 3<br>\n",
    "Explanation: We can put 2 'C' in one basket and one 'A' in the other from the subarray ['C', 'A', 'C']"
   ]
  },
  {
   "cell_type": "markdown",
   "id": "4cb86c20",
   "metadata": {},
   "source": [
    "Input: Fruit=['A', 'B', 'C', 'B', 'B', 'C'] <br>\n",
    "Output: 5 <br>\n",
    "Explanation: We can put 3 'B' in one basket and two 'C' in the other basket. \n",
    "This can be done if we start with the second letter: ['B', 'C', 'B', 'B', 'C']"
   ]
  },
  {
   "cell_type": "markdown",
   "id": "8a55bf34",
   "metadata": {},
   "source": [
    "#### 6. No-repeat Substring (hard)<br>\n",
    "\n",
    "Given a string, find the length of the longest substring which has no repeating characters.\n",
    "\n",
    "Input: String=\"aabccbb\" <br>\n",
    "Output: 3<br>\n",
    "Explanation: The longest substring without any repeating characters is \"abc\"."
   ]
  },
  {
   "cell_type": "markdown",
   "id": "56312501",
   "metadata": {},
   "source": [
    "#### 7. Longest Substring with Same Letters after Replacement (hard) <br>\n",
    "Given a string with lowercase letters only, if you are allowed to replace no more than ‘k’ letters with any letter, find the length of the longest substring having the same letters after replacement.<br>\n",
    "\n",
    "Input: String=\"aabccbb\", k=2<br>\n",
    "Output: 5<br>\n",
    "Explanation: Replace the two 'c' with 'b' to have a longest repeating substring \"bbbbb\"."
   ]
  },
  {
   "cell_type": "markdown",
   "id": "bc88bbf5",
   "metadata": {},
   "source": [
    "Input: String=\"abbcb\", k=1<br>\n",
    "Output: 4 <br>\n",
    "Explanation: Replace the 'c' with 'b' to have a longest repeating substring \"bbbb\"."
   ]
  },
  {
   "cell_type": "markdown",
   "id": "79093017",
   "metadata": {},
   "source": [
    "#### 8. Longest Subarray with Ones after Replacement (hard) <br>\n",
    "\n",
    "Given an array containing 0s and 1s, if you are allowed to replace no more than ‘k’ 0s with 1s, find the length of the longest contiguous subarray having all 1s.<br>\n",
    "\n",
    "Input: Array=[0, 1, 1, 0, 0, 0, 1, 1, 0, 1, 1], k=2<br>\n",
    "Output: 6<br>\n",
    "Explanation: Replace the '0' at index 5 and 8 to have the longest contiguous subarray of 1s having length 6."
   ]
  },
  {
   "cell_type": "markdown",
   "id": "f532650f",
   "metadata": {},
   "source": [
    "Input: Array=[0, 1, 0, 0, 1, 1, 0, 1, 1, 0, 0, 1, 1], k=3 <br>\n",
    "Output: 9<br>\n",
    "Explanation: Replace the '0' at index 6, 9, and 10 to have the longest contiguous subarray of 1s having length 9."
   ]
  },
  {
   "cell_type": "markdown",
   "id": "619cccb4",
   "metadata": {},
   "source": [
    "#### 9. Permutation in a String (hard) #\n",
    "Given a string and a pattern, find out if the string contains any permutation of the pattern. <br>\n",
    "\n",
    "Permutation is defined as the re-arranging of the characters of the string. For example, “abc” has the following six permutations:<br>\n",
    "\n",
    "abc\n",
    "acb\n",
    "bac\n",
    "bca\n",
    "cab\n",
    "cba\n",
    "<br>\n",
    "If a string has ‘n’ distinct characters it will have `n!` permutations."
   ]
  },
  {
   "cell_type": "markdown",
   "id": "1b70e2b3",
   "metadata": {},
   "source": [
    "Input: String=\"oidbcaf\", Pattern=\"abc\"<br>\n",
    "Output: true<br>\n",
    "Explanation: The string contains \"bca\" which is a permutation of the given pattern."
   ]
  },
  {
   "cell_type": "markdown",
   "id": "93d1b90a",
   "metadata": {},
   "source": [
    "Input: String=\"odicf\", Pattern=\"dc\" <br>\n",
    "Output: false<br>\n",
    "Explanation: No permutation of the pattern is present in the given string as a substring."
   ]
  },
  {
   "cell_type": "markdown",
   "id": "f0c324f0",
   "metadata": {},
   "source": [
    "Input: String=\"bcdxabcdy\", Pattern=\"bcdyabcdx\" <br>\n",
    "Output: true<br>\n",
    "Explanation: Both the string and the pattern are a permutation of each other."
   ]
  },
  {
   "cell_type": "markdown",
   "id": "467ba3ec",
   "metadata": {},
   "source": [
    "Input: String=\"aaacb\", Pattern=\"abc\" <br>\n",
    "Output: true<br>\n",
    "Explanation: The string contains \"acb\" which is a permutation of the given pattern."
   ]
  },
  {
   "cell_type": "markdown",
   "id": "83b0ea8a",
   "metadata": {},
   "source": [
    "#### 10. String Anagrams (hard) \n",
    "Given a string and a pattern, find all anagrams of the pattern in the given string.<br>\n",
    "\n",
    "Anagram is actually a Permutation of a string. For example, “abc” has the following six anagrams:<br>\n",
    "\n",
    "abc\n",
    "acb\n",
    "bac\n",
    "bca\n",
    "cab\n",
    "cba\n"
   ]
  },
  {
   "cell_type": "markdown",
   "id": "3b56da8d",
   "metadata": {},
   "source": [
    "Write a function to return a list of starting indices of the anagrams of the pattern in the given string.<br>\n",
    "\n",
    "Input: String=\"ppqp\", Pattern=\"pq\"<br>\n",
    "Output: [1, 2]<br>\n",
    "Explanation: The two anagrams of the pattern in the given string are \"pq\" and \"qp\"."
   ]
  },
  {
   "cell_type": "markdown",
   "id": "7aa1cab5",
   "metadata": {},
   "source": [
    "Input: String=\"abbcabc\", Pattern=\"abc\"<br>\n",
    "Output: [2, 3, 4]<br>\n",
    "Explanation: The three anagrams of the pattern in the given string are \"bca\", \"cab\", and \"abc\"."
   ]
  },
  {
   "cell_type": "markdown",
   "id": "fef42bf9",
   "metadata": {},
   "source": [
    "#### 11. Smallest Window containing Substring (hard) <br>\n",
    "Given a string and a pattern, find the smallest substring in the given string which has all the characters of the given pattern."
   ]
  },
  {
   "cell_type": "markdown",
   "id": "22da7508",
   "metadata": {},
   "source": [
    "Input: String=\"aabdec\", Pattern=\"abc\"<br>\n",
    "Output: \"abdec\"<br>\n",
    "Explanation: The smallest substring having all characters of the pattern is \"abdec\""
   ]
  },
  {
   "cell_type": "markdown",
   "id": "7bd8cacb",
   "metadata": {},
   "source": [
    "Input: String=\"abdabca\", Pattern=\"abc\"<br>\n",
    "Output: \"abc\"<br>\n",
    "Explanation: The smallest substring having all characters of the pattern is \"abc\"."
   ]
  },
  {
   "cell_type": "markdown",
   "id": "09f8f6de",
   "metadata": {},
   "source": [
    "Input: String=\"adcad\", Pattern=\"abc\" <br>\n",
    "Output: \"\" <br>\n",
    "Explanation: No substring in the given string has all characters of the pattern."
   ]
  },
  {
   "cell_type": "markdown",
   "id": "a5a9207d",
   "metadata": {},
   "source": [
    "#### 12. Words Concatenation (hard) #\n",
    "Given a string and a list of words, find all the starting indices of substrings in the given string that are a concatenation of all the given words exactly once without any overlapping of words. It is given that all words are of the same length."
   ]
  },
  {
   "cell_type": "markdown",
   "id": "fc889fae",
   "metadata": {},
   "source": [
    "Input: String=\"catfoxcat\", Words=[\"cat\", \"fox\"] <br>\n",
    "Output: [0, 3] <br>\n",
    "Explanation: The two substring containing both the words are \"catfox\" & \"foxcat\"."
   ]
  },
  {
   "cell_type": "markdown",
   "id": "b0c30ad4",
   "metadata": {},
   "source": [
    "Input: String=\"catcatfoxfox\", Words=[\"cat\", \"fox\"] <br>\n",
    "Output: [3]<br>\n",
    "Explanation: The only substring containing both the words is \"catfox\"."
   ]
  },
  {
   "cell_type": "code",
   "execution_count": null,
   "id": "06dbdd65",
   "metadata": {},
   "outputs": [],
   "source": []
  }
 ],
 "metadata": {
  "kernelspec": {
   "display_name": "Python 3 (ipykernel)",
   "language": "python",
   "name": "python3"
  },
  "language_info": {
   "codemirror_mode": {
    "name": "ipython",
    "version": 3
   },
   "file_extension": ".py",
   "mimetype": "text/x-python",
   "name": "python",
   "nbconvert_exporter": "python",
   "pygments_lexer": "ipython3",
   "version": "3.9.12"
  }
 },
 "nbformat": 4,
 "nbformat_minor": 5
}
