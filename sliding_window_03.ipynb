{
 "cells": [
  {
   "cell_type": "markdown",
   "id": "aa190aaf",
   "metadata": {},
   "source": [
    "## Problem Statement #\n",
    "Given an array of characters where each character represents a fruit tree, you are given two baskets and your goal is to put maximum number of fruits in each basket. The only restriction is that each basket can have only one type of fruit.\n",
    "\n",
    "You can start with any tree, but once you have started you can’t skip a tree. You will pick one fruit from each tree until you cannot, i.e., you will stop when you have to pick from a third fruit type.\n",
    "\n",
    "Write a function to return the maximum number of fruits in both the baskets.\n",
    "\n"
   ]
  },
  {
   "cell_type": "code",
   "execution_count": 3,
   "id": "09ce2eba",
   "metadata": {},
   "outputs": [],
   "source": [
    "#Input: Fruit=['A', 'B', 'C', 'A', 'C']\n",
    "#Output: 3\n",
    "#Explanation: We can put 2 'C' in one basket and one 'A' in the other from the subarray ['C', 'A', 'C']"
   ]
  },
  {
   "cell_type": "code",
   "execution_count": 4,
   "id": "06f146ca",
   "metadata": {},
   "outputs": [],
   "source": [
    "#Input: Fruit=['A', 'B', 'C', 'B', 'B', 'C']\n",
    "#Output: 5\n",
    "#Explanation: We can put 3 'B' in one basket and two 'C' in the other basket. \n",
    "#This can be done if we start with the second letter: ['B', 'C', 'B', 'B', 'C']"
   ]
  },
  {
   "cell_type": "code",
   "execution_count": null,
   "id": "3f60eaf5",
   "metadata": {},
   "outputs": [],
   "source": []
  }
 ],
 "metadata": {
  "kernelspec": {
   "display_name": "Python 3 (ipykernel)",
   "language": "python",
   "name": "python3"
  },
  "language_info": {
   "codemirror_mode": {
    "name": "ipython",
    "version": 3
   },
   "file_extension": ".py",
   "mimetype": "text/x-python",
   "name": "python",
   "nbconvert_exporter": "python",
   "pygments_lexer": "ipython3",
   "version": "3.9.12"
  }
 },
 "nbformat": 4,
 "nbformat_minor": 5
}
